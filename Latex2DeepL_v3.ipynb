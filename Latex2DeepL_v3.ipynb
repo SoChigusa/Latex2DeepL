{
 "cells": [
  {
   "cell_type": "markdown",
   "metadata": {},
   "source": [
    "# Parse LaTeX file and convert into DeepL-friendly format"
   ]
  },
  {
   "cell_type": "markdown",
   "metadata": {},
   "source": [
    "## Parse LaTeX and generate tree structure"
   ]
  },
  {
   "cell_type": "code",
   "execution_count": 175,
   "metadata": {},
   "outputs": [],
   "source": [
    "import regex\n",
    "from anytree import Node, RenderTree\n",
    "\n",
    "env1 = regex.compile(r'\\\\begin\\{((?>[^\\{\\}]+|(?R))*)\\}') # take care of correspondence btw \\{ and \\}\n",
    "env2 = regex.compile(r'\\\\end\\{((?>[^\\{\\}]+|(?R))*)\\}')\n",
    "def latex2tree(latex, tree, texdict, pos=1, structure=[]):\n",
    "    \n",
    "    # initialize tree with input file name\n",
    "    if structure == []:\n",
    "        structure = [tree]\n",
    "    \n",
    "    name = 'n'+str(pos)\n",
    "    match1 = env1.search(latex)\n",
    "    match2 = env2.search(latex)\n",
    "    \n",
    "    # end of document\n",
    "    if match1 is None and match2 is None:\n",
    "        Node(name, parent=structure[-1], dirtype='plain')\n",
    "        texdict[name] = latex\n",
    "    \n",
    "    # end environment\n",
    "    elif match1 is None or match1.span(0)[0] > match2.span(0)[0]:\n",
    "        Node(name, parent=structure[-1], dirtype='plain')\n",
    "        texdict[name] = latex[:match2.span(0)[0]]\n",
    "        \n",
    "        latex = latex[match2.span(0)[1]:]\n",
    "        structure.pop(-1)\n",
    "        latex2tree(latex, tree, texdict, pos+1, structure)\n",
    "        \n",
    "    # being environment\n",
    "    else:\n",
    "        Node(name, parent=structure[-1], dirtype='plain')\n",
    "        child = Node(match1.group(1), parent=structure[-1], dirtype=match1.group(1))\n",
    "        texdict[name] = latex[:match1.span(0)[0]]\n",
    "        \n",
    "        structure.append(child)\n",
    "        latex = latex[match1.span(0)[1]:]\n",
    "        latex2tree(latex, tree, texdict, pos+1, structure)"
   ]
  },
  {
   "cell_type": "code",
   "execution_count": 99,
   "metadata": {},
   "outputs": [],
   "source": [
    "tree = Node(input_file, parent=None)\n",
    "structure = [tree]\n",
    "texdict = {}\n",
    "env1 = regex.compile(r'\\\\begin\\{((?>[^\\{\\}]+|(?R))*)\\}') # take care of correspondence btw \\{ and \\}\n",
    "env2 = regex.compile(r'\\\\end\\{((?>[^\\{\\}]+|(?R))*)\\}')\n",
    "\n",
    "latex = latex_orig\n",
    "\n",
    "pos = 1\n",
    "name = 'n'+str(pos)\n",
    "match = env1.search(latex)\n",
    "Node(name, parent=structure[-1])\n",
    "child = Node('env', parent=tree, dirtype=match.group(1))\n",
    "structure.append(child)\n",
    "texdict[name] = latex[:match.span(0)[0]]\n",
    "latex = latex[match.span(0)[1]:]\n",
    "\n",
    "pos = pos + 1\n",
    "name = 'n'+str(pos)\n",
    "match = env2.search(latex)\n",
    "Node(name, parent=structure[-1])\n",
    "structure.pop(-1)\n",
    "texdict[name] = latex[:match.span(0)[0]]\n",
    "latex = latex[match.span(0)[1]:]\n",
    "\n",
    "pos = pos + 1\n",
    "name = 'n'+str(pos)\n",
    "match = env1.search(latex)\n",
    "if match is None:\n",
    "    Node(name, parent=structure[-1])\n",
    "    texdict[name] = latex"
   ]
  },
  {
   "cell_type": "code",
   "execution_count": 101,
   "metadata": {},
   "outputs": [
    {
     "name": "stdout",
     "output_type": "stream",
     "text": [
      "reply.tex\n",
      "├── n1\n",
      "├── env\n",
      "│   └── n2\n",
      "└── n3\n"
     ]
    }
   ],
   "source": []
  },
  {
   "cell_type": "code",
   "execution_count": 185,
   "metadata": {},
   "outputs": [],
   "source": [
    "#input_file = input()\n",
    "input_file = 'reply.tex'\n",
    "with open(input_file) as f:\n",
    "    latex_orig = f.read()\n",
    "    \n",
    "tree = Node(input_file, parent=None)\n",
    "texdict = {}\n",
    "latex2tree(latex_orig, tree, texdict)"
   ]
  },
  {
   "cell_type": "code",
   "execution_count": 186,
   "metadata": {},
   "outputs": [
    {
     "name": "stdout",
     "output_type": "stream",
     "text": [
      "reply.tex\n",
      "├── n1\n",
      "├── document\n",
      "│   ├── n2\n",
      "│   ├── enumerate\n",
      "│   │   ├── n3\n",
      "│   │   ├── align*\n",
      "│   │   │   └── n4\n",
      "│   │   └── n5\n",
      "│   ├── n6\n",
      "│   ├── flushleft\n",
      "│   │   └── n7\n",
      "│   └── n8\n",
      "└── n9\n"
     ]
    }
   ],
   "source": [
    "for pre, fill, node in RenderTree(tree):\n",
    "    print('%s%s' % (pre, node.name))"
   ]
  },
  {
   "cell_type": "code",
   "execution_count": 187,
   "metadata": {},
   "outputs": [
    {
     "data": {
      "text/plain": [
       "'\\\\documentclass[12pt]{article}\\n\\\\usepackage{amsmath,amssymb}\\n\\\\usepackage{color}\\n\\\\usepackage{ulem}\\n\\\\def\\\\rem#1{ {\\\\bf\\\\textcolor{red}{($\\\\clubsuit$ #1 $\\\\clubsuit$)}}}\\n'"
      ]
     },
     "execution_count": 187,
     "metadata": {},
     "output_type": "execute_result"
    }
   ],
   "source": [
    "texdict['n1']"
   ]
  },
  {
   "cell_type": "code",
   "execution_count": 188,
   "metadata": {},
   "outputs": [
    {
     "data": {
      "text/plain": [
       "'\\n\\nWe thank the referee very much for careful reading and useful comments that help to improve our draft.\\nReplies to the comments are listed below.\\n\\n'"
      ]
     },
     "execution_count": 188,
     "metadata": {},
     "output_type": "execute_result"
    }
   ],
   "source": [
    "texdict['n2']"
   ]
  },
  {
   "cell_type": "code",
   "execution_count": 189,
   "metadata": {},
   "outputs": [
    {
     "data": {
      "text/plain": [
       "'\\n    \\\\item Do the authors have a specific material candidate in mind modelled by the FKMH model?\\n    \\n    The material example of Fe-doped Bismuth Selenide (Li et al, 2010), is not FKMH (to my understanding). In this case the CM axion is a purely longitudinal magnon. The longitudinal case does not have the simple Heisenberg interpretation or Kittel splitting of FKMH.\\n    \\n    Can the present treatment be extended to this case of a longitudinal CM axion?\\n    \\n    \\\\textbf{Reply}:\\n    %%\\n    We agree that the Fe-doped BiSe3 is different from the FKMH model. To our understanding, the axion as the longitudinal magnon in the Fe-doped BiSe3 is not simply expressed by the magnon creation/annihilation operator (at least at the linear level). Thus we think that some extended formalism is required to describe the CM axion in the Fe-doped BiSe3, although we have not found it.\\n    %%\\n    \\n    \\\\item Eq. 5.11 is formally divergent when $m_a=m_m$. Finite linewidth of the magnon regulates this divergence and leads to a Lorentzian resonance.\\n    \\n    Instead the authors consider the approach to steady state up to the axion or magnon coherence time $\\\\tau$. I think a better approach when $Q_m<10^6$ ($Q_m$ is the magnon quality factor) is to integrate over the lineshape (as in a cavity haloscope), while $Q_m >10^6$ (corresponding to $\\\\tau_a < \\\\tau_m$ in 5.16) seems very optimistic.\\n    \\n    I think this is the largest assumption made in the dark matter projection limits and needs far greater justification and discussion.\\n    \\n    Simply put: the authors must justify their choice to take $\\\\tau_m > \\\\tau_a$\\n    \\n    \\\\textbf{Reply}:\\n    %%\\n    First, Eq.(5.11) leads to $a_1(t) \\\\propto t$ for $m_a=m_m$ as shown in (5.12), if one carefully takes the limit $m_m\\\\to m_a$. Thus, there is no divergent behavior in Eq.(5.11) as far as the operation time is finite.\\n    Including a magnon line width through the imaginary part of $m_m$ has the same effect as cutting the time $t$ with the magnon lifetime. Thus the effect of magnon width can be taken into account by considering a general value of $Q=Q_m$.\\n    \\n    The actual value of $Q_m$ is difficult to identify, since we are using a toy model (FKMH model) and there is no real experiment so far in order to measure the magnon width.\\n    In the original draft, $\\\\tau_a < \\\\tau_m$ is assumed just as an illustration of an optimistic setup.\\n    In the revised manuscript we added the results with different choices of the quality factors $Q=10^3$ and $Q=10^4$ in Figs. 1 and 2, which show prospects for more realistic setups.\\n    %%\\n    \\n    \\\\item It is stated that CM axion mixing to the polariton is small. How can this be justified?\\n    \\n    In the Fe-doped Bismuth Selenide case [39] ([41] in the revised draft) the mixing is large, and indeed in [37] ([39] in the revised draft) and in the present work the axion dark matter coupling is driven by this mixing, i.e. via the induced electric field.\\n    \\n    To answer this: For the considered material parameters (CM axion decay constant, magnon mass) what is the effective $b$ parameter and ratio $b/m$ (see \\\\sout{[39]} [41])? If this ratio is small, then indeed the polariton mixing could possibly be neglected at leading order. However, $b/m$ effectively sets the amplitude of the driving term in the current treatment, so it is not clear that small $b/m$ is in any way advantageous.\\n    \\n    Compared to \\\\sout{[37] and [72]} [39] and [74] the present work considers the axion-induced E-field as an external source and ignores the three way mixing axion DM - E-field - CM axion. The neglected mixing affects the dispersion relations, particularly at high applied $B$ field.\\n    \\n    Is considering $E_0$ as a source field consistent in the perturbative expansion?\\n    \\n    The authors should consider this mixing in more detail.\\n    \\n    Going further, this may also need the assumption of uniform $E\\\\cdot B$ to be revised, since finite momentum (and momentum conservation) and material size are important factors in the mixing.  The uniform case considered at present is equivalent to considering only the free space resonance as in \\\\sout{[37]} [39] (see also minor comment below).\\n    \\n    \\\\textbf{Reply}:\\n    %%\\n    For our set up, the $b$ parameter can be evaluated as\\n    '"
      ]
     },
     "execution_count": 189,
     "metadata": {},
     "output_type": "execute_result"
    }
   ],
   "source": [
    "texdict['n3']"
   ]
  },
  {
   "cell_type": "code",
   "execution_count": 190,
   "metadata": {},
   "outputs": [
    {
     "data": {
      "text/plain": [
       "'\\n        b \\\\sim 0.006  \\\\,\\\\mathrm{meV}\\n        \\\\left( \\\\frac{B_0}{2\\\\,\\\\mathrm{T}} \\\\right)\\n        \\\\left( \\\\frac{1}{\\\\epsilon} \\\\right)^{1/2}\\n        |D|\\n        \\\\left( u_{\\\\vec{0}} - v_{\\\\vec{0}} \\\\right)\\n        \\\\left( \\\\frac{m_a}{ 1\\\\,\\\\mathrm{meV}} \\\\right)^{1/2}\\n        \\\\left( \\\\frac{d}{(0.3\\\\,\\\\mathrm{keV})^{-1}} \\\\right)^{3/2},\\n    '"
      ]
     },
     "execution_count": 190,
     "metadata": {},
     "output_type": "execute_result"
    }
   ],
   "source": [
    "texdict['n4']"
   ]
  },
  {
   "cell_type": "code",
   "execution_count": 191,
   "metadata": {},
   "outputs": [
    {
     "data": {
      "text/plain": [
       "'\\n    which is much smaller than the assumed value $m\\\\sim 1\\\\,\\\\mathrm{meV}$ with a moderate choice of $|D| \\\\sim (u_{\\\\vec{0}}-v_{\\\\vec{0}}) \\\\sim O(1)$.\\n    Thus, we confirm that CM axion mixing to the polariton is small and the effects of mixing on dispertion relations are negligible.\\n    Also, it can be checked from Eqs. (5.14) and (5.29) that the small $b$ parameter works as a suppression factor to the signal rate $dN_{\\\\text{signal}} / dt$, which is proportional to $(b/m)^2$.\\n    To achieve this conslusion, we assumed that the effect of the magnetic field and mixing are neglected so that the frequency of a magnon mode $\\\\omega_{\\\\vec{0}}$ can be used to approximate the mass of the axionic polariton.\\n    %%\\n    \\n    \\\\item It is stated “We do not discuss in detail the detection method of generated magnons in this paper; they might be observed through the conversion into photons at the boundary of the material.\" This conversion was shown explicitly in the paper appearing at the same time, \\\\sout{[72]} [74]. However, conversion requires the polariton E component to satisfy the boundary conditions for conversion. So I think that photon counting SNR cannot be consistently used if polariton mixing (above) is ignored.\\n    \\n    \\\\textbf{Reply}:\\n    %%\\n    We agree that it is difficult to use the single photon counters to detect condensed matter axion when its mixing with photon is negligibly small.\\n    The noise rate $dN_{\\\\text{noise}}/dt \\\\sim 10^{-3}\\\\,\\\\mathrm{s}^{-1}$ used in our draft is just an assumption to demonstrate the sensitivity reach in the DM parameter space.\\n    We modified the corresponding paragraph and made this point clear.\\n    %%\\n    \\n    \\\\item The half filling Hubbard model at large $U$ is taken to be an antiferromagnetic insluator. Can finite conductance be included in the model? This was found to be a major issue in \\\\sout{[72]} [74], but perhaps the present case with low polariton mixing is less affected by conductance.\\n    \\n    Is the Fermi level guaranteed to lie in the gap of the bulk insulator FKMH model?\\n    \\n    \\\\textbf{Reply}:\\n    %%\\n    In the setup of Ref.[72] (Ref.[74] in the revised draft), the CM axion is converted to electric field (or the polariton) and hence the conductance was important. We do not necessarily assume such a setup. \\n    \\n   As far as the half-filling case is considered, the Fermi energy lies at the bulk gap since the number of states of $E<0$ and $E>0$ are the same (Eq.(4.10)). If the DM axion mass is smaller than the gap energy, it is safely regarded as a bulk insulator. On the other hand, if the DM axion mass is larger than the gap, there could be a transition from the occupied states to the empty states: such an idea was discussed in Ref. [64].\\n    %%\\n    \\n    \\\\item  CM axion parameters\\n    \\n    * What is the relationship between the CM axion decay constant in footnote 7 and the related quantity computed from the electron band energies in [39]? The present model seems simpler, but maybe there are $O(1)$ constants omitted or assumed? A translation/comparison would help.\\n    \\n     \\\\textbf{Reply}:\\n    %%\\n    The decay constant $f_{\\\\rm CM}$ is defined as a suppression scale of the effective Hamiltonian of the canonically normalized scalar fields (see the equation in revised footnote 7).  In footnote 7, we have given an explicit definition of the decay constant.  In our previous manuscript, we have neglected an $O(1)$ constant in estimating $f_{\\\\rm CM}$, which is now included.  Comparison of our $f_{\\\\rm CM}$ with the parameters in [39] is not straightforward because there show up two CM axions in the present case, i.e., the $\\\\alpha$- and $\\\\beta$-modes.  From the relation between $\\\\delta\\\\theta$ and the canonically normalized field in [39], we obtain $f_{\\\\mathrm{CM}}^2 \\\\sim O(g^2 J)$.  Notice that, for the above argument, we assumed that the effect of the magnetic field and mixing are neglected so that the frequency of a magnon mode $\\\\omega_{\\\\vec{0}}$ can be used to approximate the mass of the axionic polariton.\\n\\n%\\\\rem{\\n%    We have added the $O(1)$ coefficient of $f_{\\\\mathrm{CM}}$ in footnote 7 that was omitted in the original draft to clarify the definition.\\n%    In this definition, the combination of parameters $g^2 J$ appeared in \\\\sout{[39]} [41] is related to the decay constant as $f_{\\\\mathrm{CM}}^2 = g^2 J$.\\n%    To derive this relationship, we assumed that the effect of the magnetic field and mixing are neglected so that the frequency of a magnon mode $\\\\omega_{\\\\vec{0}}$ can be used to approximate the mass of the axionic polariton.\\n%    To derive it, however, one should note that the axion mass of \\\\sout{[39]} [41] and ours are qualitatively different, as explained in the reply below.}\\n%    \\\\rem{Should we show the detailed derivation in the draft?}\\n    \\n    * What is the relation between the CM axion mass in the present work,and that considered in the other works in the field, namely \\\\sout{[39], [37], [72],} [41], [39], [74], and the recent paper https://arxiv.org/abs/2103.02848\\n    \\n    \\\\textbf{Reply}:\\n    %%\\n    (Refs.[37],[39],[72] in old version correspond to [39],[41],[74] in the modified version. Below we use the latter.)\\n    The axion mass of Refs.[39] and [74] is both based on Ref.[41] in the Fe-doped BiSe3 model, which are also reviewed in Ref.[42]. In these works the axion mass is calculated through the one-loop effect (the so-called random phase approximation) with the Dirac electron running in the loop. However, the recent paper 2103.02848 pointed out that the calculation in those works have missed the tree level axion mass term and also the sign of the one-loop axion mass is actually opposite (tachyonic). Thus the axion mass calculations in Refs.[39],[41],[74] are questionable according to 2103.02848. \\n    \\n    On the other hand, in our present work, we do not rely on those previous works for the axion mass calculation. Since the CM axion is simply related to the magnon in the FKMH model, we can use the well-known dispersion relation of the anti-ferromagnetic magnon of the Heisenberg model.\\n    %%\\n    \\n    * The authors should have a clear layout in Section 5 of the relevant parameters and the chosen values, and a comparison to other theoretical works and experimental measurements. For example, Eq. \\\\sout{5.17} 5.16 and also the values for $V_{\\\\mathrm{unit}}$ have no references.\\n    \\n    Reference to real materials and experimental measurements would also greatly help the justification of choosing long magnon coherence times (see above).\\n    \\n    \\\\textbf{Reply}:\\n    %%\\n    Our discussion is based on the FKMH model, and hence there is no corresponding real material known so far. However, we are using typical reference values for model parameters. For example, $V_{\\\\rm unit}\\\\sim (0.3\\\\,{\\\\rm keV})^{-3}$ is taken from that of Bi$_2$Se$_3$ (although it is not described by the FKMH model), $V_{\\\\rm unit}\\\\simeq 440\\\\,{\\\\rm \\\\AA}^3$~[74].\\n    \\n    The CM axion mass expression (5.16) is based on (2.12). The second term is the Larmor frequency and the reference value of the first term is also taken from that of Fe-doped Bi$_2$Se$_3$~[39]. We added explanation below Eq.(5.16) to make this point clear.\\n    %%\\n    \\n    \\\\item Minor comments:\\n    \\n    * Earlier work on magnons for axion detection, including an experiment ran in the 90’s, and proposals to use antiferromagnets, include: https://inspirehep.net/literature/406693, https://inspirehep.net/literature/306742\\n    \\n    \\\\textbf{Reply}:\\n    %%\\n    We cited these papers at the end of the first paragraph of the introduction.\\n    %%\\n    \\n    * It is not clear to me what the physical significance of the dot dashed curves in Fig. 1 is. What does it mean that a mode can have $u-v=1$? Is this expected or not?\\n    \\n    \\\\textbf{Reply}:\\n    %%\\n    The value of $u-v$ should strongly depend on the material, but $|u-v|\\\\sim \\\\mathcal O(1)$ is more or less natural, so we present it just for reference partly because $|u-v|=10$ may be too optimistic.    \\n    %%\\n    \\n    * A large material volume $10\\\\,\\\\mathrm{cm}^3$ is assumed. Can the authors comment on the possible realisation/geometry of this? For example, QUAX use many spheres of order 1 mm3, while [72] propose large area thin disks. Does the present treatment suggest a preferred geometry? I think it cannot, since the finite momentum effects are neglected and only the free space resonance is considered (as in [37]).\\n    \\n    \\\\textbf{Reply}:\\n    %%\\n    Within our treatment, the geometry of the material is not very relevant as far as it is much smaller than the DM axion de-Broglie wavelength. For example, $10^3$ sets of (1cm)$^3$ material gives the same sensitivity as the one (10cm)$^3$ sample. \\n    %%\\n    \\n    * The conclusions seem rushed\\n    \\n    \\\\textbf{Reply}:\\n    %%\\n    We newly added a paragraph at the beginning of Sec.6 and also added several extended discussions.\\n    %%\\n    \\n'"
      ]
     },
     "execution_count": 191,
     "metadata": {},
     "output_type": "execute_result"
    }
   ],
   "source": [
    "texdict['n5']"
   ]
  },
  {
   "cell_type": "code",
   "execution_count": 192,
   "metadata": {},
   "outputs": [
    {
     "data": {
      "text/plain": [
       "'\\n\\n\\nWe hope that the modified version is suitable for publication in JHEP.\\\\\\\\\\n\\nSincerely,\\\\\\\\\\n\\n'"
      ]
     },
     "execution_count": 192,
     "metadata": {},
     "output_type": "execute_result"
    }
   ],
   "source": [
    "texdict['n6']"
   ]
  },
  {
   "cell_type": "code",
   "execution_count": 193,
   "metadata": {},
   "outputs": [
    {
     "data": {
      "text/plain": [
       "'\\nSo Chigusa\\\\\\\\\\nTakeo Moroi\\\\\\\\\\nKazunori Nakayama\\n'"
      ]
     },
     "execution_count": 193,
     "metadata": {},
     "output_type": "execute_result"
    }
   ],
   "source": [
    "texdict['n7']"
   ]
  },
  {
   "cell_type": "code",
   "execution_count": 194,
   "metadata": {},
   "outputs": [
    {
     "data": {
      "text/plain": [
       "'\\n\\n\\n'"
      ]
     },
     "execution_count": 194,
     "metadata": {},
     "output_type": "execute_result"
    }
   ],
   "source": [
    "texdict['n8']"
   ]
  },
  {
   "cell_type": "code",
   "execution_count": 195,
   "metadata": {},
   "outputs": [
    {
     "data": {
      "text/plain": [
       "'\\n'"
      ]
     },
     "execution_count": 195,
     "metadata": {},
     "output_type": "execute_result"
    }
   ],
   "source": [
    "texdict['n9']"
   ]
  },
  {
   "cell_type": "code",
   "execution_count": null,
   "metadata": {},
   "outputs": [],
   "source": []
  }
 ],
 "metadata": {
  "kernelspec": {
   "display_name": "Python 3",
   "language": "python",
   "name": "python3"
  },
  "language_info": {
   "codemirror_mode": {
    "name": "ipython",
    "version": 3
   },
   "file_extension": ".py",
   "mimetype": "text/x-python",
   "name": "python",
   "nbconvert_exporter": "python",
   "pygments_lexer": "ipython3",
   "version": "3.8.5"
  }
 },
 "nbformat": 4,
 "nbformat_minor": 4
}
