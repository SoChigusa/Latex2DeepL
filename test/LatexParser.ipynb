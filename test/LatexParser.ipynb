{
 "cells": [
  {
   "cell_type": "markdown",
   "metadata": {},
   "source": [
    "# Parse Latex file and extract paragraphs to be translated\n",
    "\n",
    "Use pylatexenc as LaTeX-parser\n",
    "\n",
    "Documentation: https://pylatexenc.readthedocs.io/en/latest/"
   ]
  },
  {
   "cell_type": "markdown",
   "metadata": {},
   "source": [
    "## Convert LaTeX to text using pylatexenc\n",
    "\n",
    "Only for demonstration purpose"
   ]
  },
  {
   "cell_type": "code",
   "execution_count": 5,
   "metadata": {},
   "outputs": [
    {
     "name": "stdin",
     "output_type": "stream",
     "text": [
      " test.tex\n"
     ]
    }
   ],
   "source": [
    "from pylatexenc.latex2text import LatexNodes2Text\n",
    "\n",
    "input_file = input()\n",
    "with open(input_file) as f:\n",
    "    latex = f.read()\n",
    "text = LatexNodes2Text().latex_to_text(latex)\n",
    "with open('test.txt', mode='w') as f:\n",
    "    f.write(text)"
   ]
  },
  {
   "cell_type": "markdown",
   "metadata": {},
   "source": [
    "## Use pylatexenc parser to analyze\n",
    "\n",
    "### Input latex source from file"
   ]
  },
  {
   "cell_type": "code",
   "execution_count": 6,
   "metadata": {},
   "outputs": [
    {
     "name": "stdin",
     "output_type": "stream",
     "text": [
      " test.tex\n"
     ]
    }
   ],
   "source": [
    "from pylatexenc.latexwalker import LatexWalker, LatexEnvironmentNode\n",
    "\n",
    "input_file = input()\n",
    "with open(input_file) as f:\n",
    "    latex = f.read()\n",
    "w = LatexWalker(latex)"
   ]
  },
  {
   "cell_type": "markdown",
   "metadata": {},
   "source": [
    "### Check properties of output"
   ]
  },
  {
   "cell_type": "code",
   "execution_count": 51,
   "metadata": {},
   "outputs": [
    {
     "data": {
      "text/plain": [
       "82"
      ]
     },
     "execution_count": 51,
     "metadata": {},
     "output_type": "execute_result"
    }
   ],
   "source": [
    "(nodelist, pos, len_) = w.get_latex_nodes(pos=0)\n",
    "len(nodelist)"
   ]
  },
  {
   "cell_type": "code",
   "execution_count": 52,
   "metadata": {},
   "outputs": [
    {
     "data": {
      "text/plain": [
       "LatexCommentNode(parsing_state=<parsing state 140670021343216>, pos=0, len=51, comment='%%%%%%%%%%%%%%%%%%%%%%%%%%%%%%%%%%%%%%%%%%%%%%%%%', comment_post_space='\\n')"
      ]
     },
     "execution_count": 52,
     "metadata": {},
     "output_type": "execute_result"
    }
   ],
   "source": [
    "nodelist[0]"
   ]
  },
  {
   "cell_type": "code",
   "execution_count": 9,
   "metadata": {},
   "outputs": [
    {
     "data": {
      "text/plain": [
       "LatexMacroNode(parsing_state=<parsing state 140670524231344>, pos=51, len=38, macroname='documentclass', nodeargd=ParsedMacroArgs(argspec='[{', argnlist=[LatexGroupNode(parsing_state=<parsing state 140670524231344>, pos=65, len=15, nodelist=[LatexCharsNode(parsing_state=<parsing state 140670524231344>, pos=66, len=13, chars='12pt, a4paper')], delimiters=('[', ']')), LatexGroupNode(parsing_state=<parsing state 140670524231344>, pos=80, len=9, nodelist=[LatexCharsNode(parsing_state=<parsing state 140670524231344>, pos=81, len=7, chars='article')], delimiters=('{', '}'))]), macro_post_space='')"
      ]
     },
     "execution_count": 9,
     "metadata": {},
     "output_type": "execute_result"
    }
   ],
   "source": [
    "nodelist[1]"
   ]
  },
  {
   "cell_type": "code",
   "execution_count": 35,
   "metadata": {},
   "outputs": [
    {
     "data": {
      "text/plain": [
       "LatexMacroNode(parsing_state=<parsing state 140670524231344>, pos=1820, len=10, macroname='rightskip', nodeargd=ParsedMacroArgs(argspec='', argnlist=[]), macro_post_space='')"
      ]
     },
     "execution_count": 35,
     "metadata": {},
     "output_type": "execute_result"
    }
   ],
   "source": [
    "nodelist[78]"
   ]
  },
  {
   "cell_type": "code",
   "execution_count": 36,
   "metadata": {},
   "outputs": [
    {
     "data": {
      "text/plain": [
       "LatexCharsNode(parsing_state=<parsing state 140670524231344>, pos=1830, len=6, chars='=0pt\\n\\n')"
      ]
     },
     "execution_count": 36,
     "metadata": {},
     "output_type": "execute_result"
    }
   ],
   "source": [
    "nodelist[79]"
   ]
  },
  {
   "cell_type": "markdown",
   "metadata": {},
   "source": [
    "**Next element, nodelist[80], corresponds to the element \\begin{document}**"
   ]
  },
  {
   "cell_type": "code",
   "execution_count": 38,
   "metadata": {},
   "outputs": [
    {
     "data": {
      "text/plain": [
       "LatexCharsNode(parsing_state=<parsing state 140670524231344>, pos=86536, len=1, chars='\\n')"
      ]
     },
     "execution_count": 38,
     "metadata": {},
     "output_type": "execute_result"
    }
   ],
   "source": [
    "nodelist[81]"
   ]
  },
  {
   "cell_type": "markdown",
   "metadata": {},
   "source": [
    "### Check properties of \\begin{document} element"
   ]
  },
  {
   "cell_type": "code",
   "execution_count": 42,
   "metadata": {},
   "outputs": [
    {
     "data": {
      "text/plain": [
       "'document'"
      ]
     },
     "execution_count": 42,
     "metadata": {},
     "output_type": "execute_result"
    }
   ],
   "source": [
    "nodelist[80].environmentname"
   ]
  },
  {
   "cell_type": "code",
   "execution_count": 55,
   "metadata": {},
   "outputs": [
    {
     "data": {
      "text/plain": [
       "(1836, 84700)"
      ]
     },
     "execution_count": 55,
     "metadata": {},
     "output_type": "execute_result"
    }
   ],
   "source": [
    "(nodelist[80].pos, nodelist[80].len)"
   ]
  },
  {
   "cell_type": "code",
   "execution_count": 60,
   "metadata": {},
   "outputs": [
    {
     "data": {
      "text/plain": [
       "1782"
      ]
     },
     "execution_count": 60,
     "metadata": {},
     "output_type": "execute_result"
    }
   ],
   "source": [
    "len(nodelist[80].nodelist)"
   ]
  },
  {
   "cell_type": "code",
   "execution_count": 74,
   "metadata": {},
   "outputs": [
    {
     "data": {
      "text/plain": [
       "LatexEnvironmentNode(parsing_state=<parsing state 140670021343216>, pos=2770, len=652, environmentname='abstract', nodelist=[LatexCharsNode(parsing_state=<parsing state 140670021343216>, pos=2786, len=622, chars='\\nThe QCD axion or axion-like particles are candidates of dark matter of the universe. On the other hand, axion-like excitations exist in certain condensed matter systems, which implies that there can be interactions of dark matter particles with condensed matter axions. We discuss the relationship between the condensed matter axion and a collective spin-wave excitation in an anti-ferromagnetic insulator at the quantum level. The conversion rate of the light dark matter, such as the elementary particle axion or hidden photon, into the condensed matter axion is estimated for the discovery of the dark matter signals.\\n')], nodeargd=ParsedMacroArgs(argspec='', argnlist=[]))"
      ]
     },
     "execution_count": 74,
     "metadata": {},
     "output_type": "execute_result"
    }
   ],
   "source": [
    "abstract = nodelist[80].nodelist[2].nodelist[5]\n",
    "abstract"
   ]
  },
  {
   "cell_type": "code",
   "execution_count": 115,
   "metadata": {},
   "outputs": [
    {
     "data": {
      "text/plain": [
       "('abstract', pylatexenc.latexwalker.LatexEnvironmentNode)"
      ]
     },
     "execution_count": 115,
     "metadata": {},
     "output_type": "execute_result"
    }
   ],
   "source": [
    "(abstract.environmentname, type(abstract))"
   ]
  },
  {
   "cell_type": "code",
   "execution_count": 79,
   "metadata": {},
   "outputs": [
    {
     "data": {
      "text/plain": [
       "'\\nThe QCD axion or axion-like particles are candidates of dark matter of the universe. On the other hand, axion-like excitations exist in certain condensed matter systems, which implies that there can be interactions of dark matter particles with condensed matter axions. We discuss the relationship between the condensed matter axion and a collective spin-wave excitation in an anti-ferromagnetic insulator at the quantum level. The conversion rate of the light dark matter, such as the elementary particle axion or hidden photon, into the condensed matter axion is estimated for the discovery of the dark matter signals.\\n'"
      ]
     },
     "execution_count": 79,
     "metadata": {},
     "output_type": "execute_result"
    }
   ],
   "source": [
    "abstract.nodelist[0].chars"
   ]
  },
  {
   "cell_type": "code",
   "execution_count": 100,
   "metadata": {},
   "outputs": [
    {
     "data": {
      "text/plain": [
       "LatexMacroNode(parsing_state=<parsing state 140670021343216>, pos=3796, len=22, macroname='section', nodeargd=ParsedMacroArgs(argspec='*[{', argnlist=[None, None, LatexGroupNode(parsing_state=<parsing state 140670021343216>, pos=3804, len=14, nodelist=[LatexCharsNode(parsing_state=<parsing state 140670021343216>, pos=3805, len=12, chars='Introduction')], delimiters=('{', '}'))]), macro_post_space='')"
      ]
     },
     "execution_count": 100,
     "metadata": {},
     "output_type": "execute_result"
    }
   ],
   "source": [
    "section1 = nodelist[80].nodelist[25]\n",
    "section1"
   ]
  },
  {
   "cell_type": "code",
   "execution_count": 113,
   "metadata": {},
   "outputs": [
    {
     "data": {
      "text/plain": [
       "('section', pylatexenc.latexwalker.LatexGroupNode, 'Introduction')"
      ]
     },
     "execution_count": 113,
     "metadata": {},
     "output_type": "execute_result"
    }
   ],
   "source": [
    "(section1.macroname, type(section1.nodeargd.argnlist[2]), section1.nodeargd.argnlist[2].nodelist[0].chars)"
   ]
  },
  {
   "cell_type": "code",
   "execution_count": 126,
   "metadata": {},
   "outputs": [
    {
     "data": {
      "text/plain": [
       "(pylatexenc.latexwalker.LatexCharsNode,\n",
       " '\\n\\n\\nThe QCD axion is a hypothetical elementary particle that solves the strong CP problem')"
      ]
     },
     "execution_count": 126,
     "metadata": {},
     "output_type": "execute_result"
    }
   ],
   "source": [
    "(type(nodelist[80].nodelist[32]), nodelist[80].nodelist[32].chars)"
   ]
  },
  {
   "cell_type": "code",
   "execution_count": 132,
   "metadata": {},
   "outputs": [
    {
     "data": {
      "text/plain": [
       "LatexSpecialsNode(parsing_state=<parsing state 140670021343216>, pos=4000, len=1, specials_chars='~', nodeargd=None)"
      ]
     },
     "execution_count": 132,
     "metadata": {},
     "output_type": "execute_result"
    }
   ],
   "source": [
    "nodelist[80].nodelist[33]"
   ]
  },
  {
   "cell_type": "code",
   "execution_count": 133,
   "metadata": {},
   "outputs": [
    {
     "data": {
      "text/plain": [
       "LatexMacroNode(parsing_state=<parsing state 140670021343216>, pos=4001, len=51, macroname='cite', nodeargd=ParsedMacroArgs(argspec='*[[{', argnlist=[None, None, None, LatexGroupNode(parsing_state=<parsing state 140670021343216>, pos=4006, len=46, nodelist=[LatexCharsNode(parsing_state=<parsing state 140670021343216>, pos=4007, len=44, chars='Peccei:1977hh,Weinberg:1977ma,Wilczek:1977pj')], delimiters=('{', '}'))]), macro_post_space='')"
      ]
     },
     "execution_count": 133,
     "metadata": {},
     "output_type": "execute_result"
    }
   ],
   "source": [
    "nodelist[80].nodelist[34]"
   ]
  },
  {
   "cell_type": "code",
   "execution_count": 140,
   "metadata": {},
   "outputs": [
    {
     "ename": "TypeError",
     "evalue": "get_latex_nodes() got an unexpected keyword argument 'len'",
     "output_type": "error",
     "traceback": [
      "\u001b[0;31m---------------------------------------------------------------------------\u001b[0m",
      "\u001b[0;31mTypeError\u001b[0m                                 Traceback (most recent call last)",
      "\u001b[0;32m<ipython-input-140-1720ac937f2e>\u001b[0m in \u001b[0;36m<module>\u001b[0;34m\u001b[0m\n\u001b[0;32m----> 1\u001b[0;31m \u001b[0mw\u001b[0m\u001b[0;34m.\u001b[0m\u001b[0mget_latex_nodes\u001b[0m\u001b[0;34m(\u001b[0m\u001b[0mpos\u001b[0m\u001b[0;34m=\u001b[0m\u001b[0;36m4000\u001b[0m\u001b[0;34m,\u001b[0m \u001b[0mlen\u001b[0m\u001b[0;34m=\u001b[0m\u001b[0;36m1\u001b[0m\u001b[0;34m)\u001b[0m\u001b[0;34m\u001b[0m\u001b[0;34m\u001b[0m\u001b[0m\n\u001b[0m",
      "\u001b[0;31mTypeError\u001b[0m: get_latex_nodes() got an unexpected keyword argument 'len'"
     ]
    }
   ],
   "source": [
    "w.get_latex_nodes(pos=4000)"
   ]
  },
  {
   "cell_type": "code",
   "execution_count": 131,
   "metadata": {},
   "outputs": [
    {
     "data": {
      "text/plain": [
       "(pylatexenc.latexwalker.LatexCharsNode,\n",
       " ' and is a candidate of dark matter (DM) of the universe')"
      ]
     },
     "execution_count": 131,
     "metadata": {},
     "output_type": "execute_result"
    }
   ],
   "source": [
    "(type(nodelist[80].nodelist[35]), nodelist[80].nodelist[3].chars)"
   ]
  }
 ],
 "metadata": {
  "kernelspec": {
   "display_name": "Python 3",
   "language": "python",
   "name": "python3"
  },
  "language_info": {
   "codemirror_mode": {
    "name": "ipython",
    "version": 3
   },
   "file_extension": ".py",
   "mimetype": "text/x-python",
   "name": "python",
   "nbconvert_exporter": "python",
   "pygments_lexer": "ipython3",
   "version": "3.8.5"
  }
 },
 "nbformat": 4,
 "nbformat_minor": 4
}
