{
 "cells": [
  {
   "cell_type": "markdown",
   "metadata": {},
   "source": [
    "# Parse LaTeX file and convert into DeepL-friendly format"
   ]
  },
  {
   "cell_type": "markdown",
   "metadata": {},
   "source": [
    "## Input LaTeX source from file and parse"
   ]
  },
  {
   "cell_type": "code",
   "execution_count": 10,
   "metadata": {},
   "outputs": [
    {
     "name": "stdin",
     "output_type": "stream",
     "text": [
      " combine.tex\n"
     ]
    }
   ],
   "source": [
    "from pylatexenc.latexwalker import LatexWalker, LatexCharsNode, LatexEnvironmentNode, LatexMacroNode, LatexSpecialsNode\n",
    "import re\n",
    "\n",
    "input_file = input()\n",
    "with open(input_file) as f:\n",
    "    latex = f.read()\n",
    "w = LatexWalker(latex)\n",
    "(nodelist, pos, len_) = w.get_latex_nodes(pos=0)"
   ]
  },
  {
   "cell_type": "markdown",
   "metadata": {},
   "source": [
    "## Look for \\begin{document} ... \\end{document} environment"
   ]
  },
  {
   "cell_type": "code",
   "execution_count": 11,
   "metadata": {},
   "outputs": [],
   "source": [
    "# nodelist = nodelist[-1].nodelist[-1].nodelist[-1].nodelist[-1].nodelist[-1].nodelist[-1].nodelist[-1].nodelist[-1].nodelist[-1].nodelist[-1].nodelist[-1].nodelist ##################################################\n",
    "env = [n for n in nodelist if n.isNodeType(LatexEnvironmentNode)]\n",
    "doc = [e for e in env if e.environmentname=='document']\n",
    "if len(doc)==1:\n",
    "    doc = doc[0]\n",
    "else:\n",
    "    print('Unexpected format with more than one document environment')"
   ]
  },
  {
   "cell_type": "markdown",
   "metadata": {},
   "source": [
    "## Look for successive LaTeX special expressions and replace them by the format P(pos)L(len)"
   ]
  },
  {
   "cell_type": "code",
   "execution_count": 12,
   "metadata": {},
   "outputs": [],
   "source": [
    "format8 = '{:008}'\n",
    "def replaceSpecial(node):\n",
    "    if node.isNodeType(LatexCharsNode):\n",
    "        s = node.chars\n",
    "    else:\n",
    "        s = ' P'+format8.format(node.pos)+'L'+format8.format(node.len)+' '\n",
    "    return s"
   ]
  },
  {
   "cell_type": "code",
   "execution_count": 13,
   "metadata": {},
   "outputs": [],
   "source": [
    "def replaceSuccessiveTags(match):\n",
    "    n_space = len(match.group(3))\n",
    "    return 'P'+match.group(1)+'L'+format8.format(int(match.group(2))+int(match.group(4))+n_space)"
   ]
  },
  {
   "cell_type": "code",
   "execution_count": 14,
   "metadata": {},
   "outputs": [],
   "source": [
    "dnl = doc.nodelist\n",
    "str_list = [replaceSpecial(n) for n in dnl]\n",
    "latex_rep = ''.join(str_list)\n",
    "while re.search('P(\\d{8})L(\\d{8}) ([ \\n]+) P\\d{8}L(\\d{8})', latex_rep) is not None:\n",
    "    latex_rep = re.sub('P(\\d{8})L(\\d{8}) ([ \\n]+) P\\d{8}L(\\d{8})', replaceSuccessiveTags, latex_rep)"
   ]
  },
  {
   "cell_type": "markdown",
   "metadata": {},
   "source": [
    "## Preprocess the string and translate using DeepL"
   ]
  },
  {
   "cell_type": "code",
   "execution_count": 15,
   "metadata": {},
   "outputs": [],
   "source": [
    "paras = re.split('\\n\\n', latex_rep)\n",
    "paras = [p.replace('\\n', ' ') for p in paras]"
   ]
  },
  {
   "cell_type": "code",
   "execution_count": 56,
   "metadata": {},
   "outputs": [],
   "source": [
    "from selenium import webdriver\n",
    "from selenium.webdriver.chrome.options import Options\n",
    "from selenium.webdriver.common.keys import Keys\n",
    "import time\n",
    "import pyperclip as ppc\n",
    "\n",
    "options = Options()\n",
    "options.add_argument('--disable-gpu')\n",
    "options.add_argument('--disable-extensions')\n",
    "options.add_argument('--proxy-server=\"direct://\"')\n",
    "options.add_argument('--proxy-bypass-list=*')\n",
    "options.add_argument('--start-maximized')\n",
    "\n",
    "DRIVER_PATH = '/usr/local/bin/chromedriver'\n",
    "driver = webdriver.Chrome(executable_path=DRIVER_PATH, options=options)\n",
    "\n",
    "load_url = 'https://www.deepl.com/ja/translator#en/ja'\n",
    "driver.get(load_url)\n",
    "\n",
    "clipboard = ppc.paste()\n",
    "stextarea = driver.find_element_by_css_selector(\n",
    "    '.lmt__textarea.lmt__source_textarea.lmt__textarea_base_style')\n",
    "ttextarea = driver.find_element_by_css_selector(\n",
    "    '.lmt__textarea.lmt__target_textarea.lmt__textarea_base_style')"
   ]
  },
  {
   "cell_type": "code",
   "execution_count": 17,
   "metadata": {},
   "outputs": [],
   "source": [
    "def translateParagraph(par):\n",
    "    if par == '' or par == '\\n':\n",
    "        return par\n",
    "    ppc.copy(par)\n",
    "    stextarea.send_keys(Keys.COMMAND, 'v')\n",
    "    translated_text = ''\n",
    "    while not translated_text:\n",
    "        time.sleep(1)\n",
    "        translated_text = ttextarea.get_property('value')\n",
    "    stextarea.send_keys(Keys.COMMAND, 'a')\n",
    "    stextarea.send_keys(Keys.BACKSPACE)\n",
    "    return translated_text"
   ]
  },
  {
   "cell_type": "code",
   "execution_count": 57,
   "metadata": {},
   "outputs": [],
   "source": [
    "paras_ja = [translateParagraph(par) for par in paras]"
   ]
  },
  {
   "cell_type": "code",
   "execution_count": 59,
   "metadata": {},
   "outputs": [],
   "source": [
    "ppc.copy(clipboard)\n",
    "driver.quit()"
   ]
  },
  {
   "cell_type": "markdown",
   "metadata": {},
   "source": [
    "## Debug: comparing original tags and \"translated\" ones"
   ]
  },
  {
   "cell_type": "code",
   "execution_count": 60,
   "metadata": {},
   "outputs": [],
   "source": [
    "def posl2tag(posl):\n",
    "    return 'P'+posl[0]+'L'+posl[1]"
   ]
  },
  {
   "cell_type": "code",
   "execution_count": 61,
   "metadata": {},
   "outputs": [
    {
     "data": {
      "text/plain": [
       "['P00009292L00000010',\n",
       " 'P00076522L00000020',\n",
       " 'P00033956L00000002',\n",
       " 'P00016787L00000010',\n",
       " 'P00063063L00000010',\n",
       " 'P00059043L00000026',\n",
       " 'P00030341L00000002',\n",
       " 'P00009057L00000047',\n",
       " 'P00061101L00000021',\n",
       " 'P00069146L00000002',\n",
       " 'P00070178L00000001',\n",
       " 'P00060940L00000008',\n",
       " 'P00034139L00000031',\n",
       " 'P00034138L00000001',\n",
       " 'P00071070L00000001',\n",
       " 'P00053880L00000001',\n",
       " 'P00053881L00000069',\n",
       " 'P00007932L00000010',\n",
       " 'P00075940L00000002',\n",
       " 'P00061578L00000008',\n",
       " 'P00048523L00000002',\n",
       " 'P00002796L00000010',\n",
       " 'P00052564L00000001',\n",
       " 'P00016797L00000002',\n",
       " 'P00073456L00000002',\n",
       " 'P00060994L00000008',\n",
       " 'P00082833L00000001',\n",
       " 'P00077088L00000002',\n",
       " 'P00009238L00000013',\n",
       " 'P00007965L00000026',\n",
       " 'P00021437L00000013',\n",
       " 'P00039053L00000002',\n",
       " 'P00052565L00000021',\n",
       " 'P00035891L00000002',\n",
       " 'P00070179L00000022',\n",
       " 'P00071833L00000002',\n",
       " 'P00061100L00000001',\n",
       " 'P00069141L00000002',\n",
       " 'P00071071L00000021']"
      ]
     },
     "execution_count": 61,
     "metadata": {},
     "output_type": "execute_result"
    }
   ],
   "source": [
    "pattern = re.compile('P(\\d{8})L(\\d{8})')\n",
    "tag0 = pattern.findall(latex_rep)\n",
    "tag1 = pattern.findall(latex_JP) + re.compile('p(\\d{8})l(\\d{8})').findall(latex_JP)\n",
    "tag_miss = list((set(tag0) ^ set(tag1)) & set(tag0))\n",
    "tag_miss = [posl2tag(t) for t in tag_miss]\n",
    "(tag_miss)"
   ]
  },
  {
   "cell_type": "code",
   "execution_count": 37,
   "metadata": {},
   "outputs": [
    {
     "data": {
      "text/plain": [
       "18"
      ]
     },
     "execution_count": 37,
     "metadata": {},
     "output_type": "execute_result"
    }
   ],
   "source": [
    "target = [p for p in paras if tag_miss[3] in p]\n",
    "paras.index(target[0])"
   ]
  },
  {
   "cell_type": "code",
   "execution_count": 38,
   "metadata": {},
   "outputs": [
    {
     "data": {
      "text/plain": [
       "'Whether dark matter experiences any forces other than gravity, known as self-interacting dark matter (SIDM), is a hotly debated topic in astrophysics. This section provides a brief overview; the reader is encouraged to see Ref. P00015694L00000001  P00015695L00000020  for a thorough review. One motivation for SIDM is that the lightest dark matter particle charged under a dark-sector interaction must be stable due to charge conservation, consistent with the fact that dark matter particles have survived for over 14 billion years to date. SIDM models also have observable implications for astrophysical structure. For example, self-interactions could explain several small-scale structure observations that appear to be in tension with collisionless dark matter predictions,  P00016225L00000010  P00016235L00000002 the so-called core-cusp problem; however, at large scales, collisionless dark matter models have been a great success. This can all be reconciled if dark matter self-interactions are velocity dependent, which is expected if  they are  mediated by a relatively light  P00016503L00000014 MeV P00016520L00000002 GeV P00016525L00000003  mediator particle,  P00016548L00000010  P00016558L00000002 a dark photon. Indeed, simple dark-photon models can explain observations spanning a large range of length scales, from dwarf galaxies to galaxy clusters. That said, the interplay between baryonic interactions and dark matter,  P00016787L00000010  P00016797L00000002 how feedback from supernovae affect the dark matter density profile, is not fully understood, and this non-linear dynamic may provide an alternative solution to small-scale structure problems. Regardless, SIDM is well motivated and searches for dark photons are of great interest to both the particle physics and astrophysics communities.'"
      ]
     },
     "execution_count": 38,
     "metadata": {},
     "output_type": "execute_result"
    }
   ],
   "source": [
    "paras[18]"
   ]
  },
  {
   "cell_type": "code",
   "execution_count": 39,
   "metadata": {},
   "outputs": [
    {
     "data": {
      "text/plain": [
       "'暗黒物質が重力以外の力を経験しているかどうかは、自己相互作用暗黒物質（SIDM）と呼ばれ、宇宙物理学の分野で盛んに議論されているテーマである。本節ではその概要を説明しますが、読者の皆様にはRef. P00015694L00000001 P00015695L00000020を参照してください。SIDMの動機の1つは、ダークセクター相互作用下で充電された最も軽いダークマター粒子は、電荷保存により安定していなければならないということであり、これはダークマター粒子が現在まで140億年以上も生き残っているという事実と一致します。SIDMモデルは、天体物理学的な構造に対しても観測可能な意味を持っている。例えば、自己相互作用は、衝突のない暗黒物質の予測とは相反するように見えるいくつかの小さなスケールの構造観測（P00016225L00000010 P00016235L00000002 いわゆるコア・カスプ問題）を説明することができる。しかし、大きなスケールでは、衝突のない暗黒物質モデルは大きな成功を収めている。これは、暗黒物質の自己相互作用が速度に依存している場合で、比較的軽いP00016503L00000014 MeV P00016520L00000002 GeV P00016525L00000003の媒介粒子、P00016548L00000010 P00016558L00000002の暗黒光子によって媒介される場合に予想される。実際、単純な暗黒光子モデルは、矮小銀河から銀河団まで、広い範囲の長さスケールの観測結果を説明することができます。しかし、バリオン相互作用と暗黒物質の相互作用、つまり、超新星からのフィードバックが暗黒物質の密度分布にどのように影響するかについては完全には理解されておらず、この非線形力学が小規模な構造問題に対する別の解決策になるかもしれません。いずれにしても、SIDMには十分な動機があり、ダークフォトンの探索は、素粒子物理学と天体物理学の両方のコミュニティにとって大きな関心事です。'"
      ]
     },
     "execution_count": 39,
     "metadata": {},
     "output_type": "execute_result"
    }
   ],
   "source": [
    "paras_JP[18]"
   ]
  },
  {
   "cell_type": "code",
   "execution_count": 62,
   "metadata": {},
   "outputs": [],
   "source": [
    "warning1 = ' Latex2DeepL missing expresion warning: '\n",
    "warning2 = ', '\n",
    "def addMissingExpressionWarning(tag):\n",
    "    target = [p for p in paras if tag in p]\n",
    "    index = paras.index(target[0])\n",
    "    if re.search(warning1, paras_ja[index]) is None:\n",
    "        paras_ja[index] += warning1+'\\\"'+tag+'\\\", '\n",
    "    else:\n",
    "        paras_ja[index] += '\\\"'+tag+'\\\", '\n",
    "for t in tag_miss:\n",
    "    addMissingExpressionWarning(t)"
   ]
  },
  {
   "cell_type": "code",
   "execution_count": 63,
   "metadata": {},
   "outputs": [],
   "source": [
    "latex_ja = '\\n\\n'.join(paras_ja)"
   ]
  },
  {
   "cell_type": "markdown",
   "metadata": {},
   "source": [
    "## Replace P(pos)L(len) to original LaTeX formula"
   ]
  },
  {
   "cell_type": "code",
   "execution_count": 64,
   "metadata": {},
   "outputs": [],
   "source": [
    "def replaceRule(match):\n",
    "    (pos, l) = (int(match.group(1)), int(match.group(2)))\n",
    "    return latex[pos:pos+l]"
   ]
  },
  {
   "cell_type": "code",
   "execution_count": 65,
   "metadata": {},
   "outputs": [],
   "source": [
    "latex_fin = re.sub('P(\\d{8})L(\\d{8})', replaceRule, latex_ja)\n",
    "latex_fin = re.sub('p(\\d{8})l(\\d{8})', replaceRule, latex_fin) # DeepL sometimes translates P->p and L->l\n",
    "latex_fin = latex[:doc.pos]+'\\\\begin{document}\\n'+latex_fin+'\\n\\\\end{document}'"
   ]
  },
  {
   "cell_type": "code",
   "execution_count": 66,
   "metadata": {},
   "outputs": [],
   "source": [
    "(head, ext) = re.split('\\.', input_file)\n",
    "output_file = head+'_ja.'+ext\n",
    "with open(output_file, mode='w') as f:\n",
    "    f.write(latex_fin)"
   ]
  },
  {
   "cell_type": "code",
   "execution_count": null,
   "metadata": {},
   "outputs": [],
   "source": []
  }
 ],
 "metadata": {
  "kernelspec": {
   "display_name": "Python 3",
   "language": "python",
   "name": "python3"
  },
  "language_info": {
   "codemirror_mode": {
    "name": "ipython",
    "version": 3
   },
   "file_extension": ".py",
   "mimetype": "text/x-python",
   "name": "python",
   "nbconvert_exporter": "python",
   "pygments_lexer": "ipython3",
   "version": "3.8.5"
  }
 },
 "nbformat": 4,
 "nbformat_minor": 4
}
