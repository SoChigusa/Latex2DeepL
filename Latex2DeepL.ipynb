{
 "cells": [
  {
   "cell_type": "markdown",
   "metadata": {},
   "source": [
    "# Parse LaTeX file and convert into DeepL-friendly format"
   ]
  },
  {
   "cell_type": "markdown",
   "metadata": {},
   "source": [
    "## Input LaTeX source from file and parse"
   ]
  },
  {
   "cell_type": "code",
   "execution_count": 65,
   "metadata": {},
   "outputs": [
    {
     "name": "stdin",
     "output_type": "stream",
     "text": [
      " /Users/SoChigusa/works/Latex2DeepL/test/test.tex\n"
     ]
    }
   ],
   "source": [
    "from pylatexenc.latexwalker import LatexWalker, LatexCharsNode, LatexEnvironmentNode, LatexMacroNode, LatexSpecialsNode\n",
    "import re\n",
    "\n",
    "input_file = input()\n",
    "with open(input_file) as f:\n",
    "    latex = f.read()\n",
    "w = LatexWalker(latex)\n",
    "(nodelist, pos, len_) = w.get_latex_nodes(pos=0)"
   ]
  },
  {
   "cell_type": "markdown",
   "metadata": {},
   "source": [
    "## Look for \\begin{document} ... \\end{document} environment"
   ]
  },
  {
   "cell_type": "code",
   "execution_count": 66,
   "metadata": {},
   "outputs": [],
   "source": [
    "env = [n for n in nodelist if n.isNodeType(LatexEnvironmentNode)]\n",
    "doc = [e for e in env if e.environmentname=='document']\n",
    "if len(doc)==1:\n",
    "    doc = doc[0]\n",
    "else:\n",
    "    print('Unexpected format with more than one document environment')"
   ]
  },
  {
   "cell_type": "markdown",
   "metadata": {},
   "source": [
    "## Look for successive LaTeX special expressions and replace them by the format P(pos)L(len)"
   ]
  },
  {
   "cell_type": "code",
   "execution_count": 67,
   "metadata": {},
   "outputs": [],
   "source": [
    "format8 = '{:008}'\n",
    "def replaceSpecial(node):\n",
    "    if node.isNodeType(LatexCharsNode):\n",
    "        s = node.chars\n",
    "    else:\n",
    "        s = ' P'+format8.format(node.pos)+'L'+format8.format(node.len)+' '\n",
    "    return s"
   ]
  },
  {
   "cell_type": "code",
   "execution_count": 68,
   "metadata": {},
   "outputs": [],
   "source": [
    "def replaceSuccessiveTags(match):\n",
    "    return 'P'+match.group(1)+'L'+format8.format(int(match.group(2))+int(match.group(3)))"
   ]
  },
  {
   "cell_type": "code",
   "execution_count": 69,
   "metadata": {},
   "outputs": [],
   "source": [
    "dnl = doc.nodelist\n",
    "str_list = [replaceSpecial(n) for n in dnl]\n",
    "latex_rep = ''.join(str_list)\n",
    "while re.search('P(\\d{8})L(\\d{8})  P\\d{8}L(\\d{8})', latex_rep) is not None:\n",
    "    latex_rep = re.sub('P(\\d{8})L(\\d{8})  P\\d{8}L(\\d{8})', replaceSuccessiveTags, latex_rep)"
   ]
  },
  {
   "cell_type": "markdown",
   "metadata": {},
   "source": [
    "## Preprocess the string and translate using DeepL"
   ]
  },
  {
   "cell_type": "code",
   "execution_count": 70,
   "metadata": {},
   "outputs": [],
   "source": [
    "paras = re.split('\\n\\n', latex_rep)\n",
    "paras = [p.replace('\\n', ' ') for p in paras]"
   ]
  },
  {
   "cell_type": "code",
   "execution_count": 71,
   "metadata": {},
   "outputs": [],
   "source": [
    "from selenium import webdriver\n",
    "from selenium.webdriver.chrome.options import Options\n",
    "from selenium.webdriver.common.keys import Keys\n",
    "import time\n",
    "import pyperclip as ppc\n",
    "\n",
    "options = Options()\n",
    "options.add_argument('--disable-gpu')\n",
    "options.add_argument('--disable-extensions')\n",
    "options.add_argument('--proxy-server=\"direct://\"')\n",
    "options.add_argument('--proxy-bypass-list=*')\n",
    "options.add_argument('--start-maximized')\n",
    "\n",
    "DRIVER_PATH = '/Users/SoChigusa/works/Latex2DeepL/bin/chromedriver'\n",
    "driver = webdriver.Chrome(executable_path=DRIVER_PATH, options=options)\n",
    "\n",
    "load_url = 'https://www.deepl.com/ja/translator#en/ja'\n",
    "driver.get(load_url)\n",
    "\n",
    "clipboard = ppc.paste()\n",
    "stextarea = driver.find_element_by_css_selector(\n",
    "    '.lmt__textarea.lmt__source_textarea.lmt__textarea_base_style')\n",
    "ttextarea = driver.find_element_by_css_selector(\n",
    "    '.lmt__textarea.lmt__target_textarea.lmt__textarea_base_style')"
   ]
  },
  {
   "cell_type": "code",
   "execution_count": 72,
   "metadata": {},
   "outputs": [],
   "source": [
    "def translateParagraph(par):\n",
    "    if par == '' or par == '\\n':\n",
    "        return par\n",
    "    ppc.copy(par)\n",
    "    stextarea.send_keys(Keys.COMMAND, 'v')\n",
    "    translated_text = ''\n",
    "    while not translated_text:\n",
    "        time.sleep(1)\n",
    "        translated_text = ttextarea.get_property('value')\n",
    "    stextarea.send_keys(Keys.COMMAND, 'a')\n",
    "    stextarea.send_keys(Keys.BACKSPACE)\n",
    "    return translated_text"
   ]
  },
  {
   "cell_type": "code",
   "execution_count": 73,
   "metadata": {},
   "outputs": [],
   "source": [
    "paras_JP = [translateParagraph(par) for par in paras]\n",
    "latex_JP = '\\n\\n'.join(paras_JP)"
   ]
  },
  {
   "cell_type": "code",
   "execution_count": 74,
   "metadata": {},
   "outputs": [],
   "source": [
    "ppc.copy(clipboard)\n",
    "driver.quit()"
   ]
  },
  {
   "cell_type": "markdown",
   "metadata": {},
   "source": [
    "## Debug: comparing original tags and \"translated\" ones"
   ]
  },
  {
   "cell_type": "code",
   "execution_count": 75,
   "metadata": {},
   "outputs": [],
   "source": [
    "def posl2tag(posl):\n",
    "    return 'P'+posl[0]+'L'+posl[1]"
   ]
  },
  {
   "cell_type": "code",
   "execution_count": 76,
   "metadata": {},
   "outputs": [
    {
     "data": {
      "text/plain": [
       "['P00080889L00000023',\n",
       " 'P00004666L00000008',\n",
       " 'P00017010L00000096',\n",
       " 'P00066096L00000165',\n",
       " 'P00024648L00000111',\n",
       " 'P00027006L00000031',\n",
       " 'P00032905L00000639',\n",
       " 'P00071784L00000005',\n",
       " 'P00080918L00000014',\n",
       " 'P00024763L00000172',\n",
       " 'P00048401L00000168',\n",
       " 'P00004000L00000052',\n",
       " 'P00031957L00000016',\n",
       " 'P00012978L00000002',\n",
       " 'P00048588L00000003',\n",
       " 'P00004675L00000010',\n",
       " 'P00070809L00000073',\n",
       " 'P00026517L00000108',\n",
       " 'P00014602L00000024',\n",
       " 'P00080855L00000005',\n",
       " 'P00017107L00000003',\n",
       " 'P00035316L00000431',\n",
       " 'P00004636L00000003',\n",
       " 'P00070780L00000016',\n",
       " 'P00024936L00000003',\n",
       " 'P00012889L00000088']"
      ]
     },
     "execution_count": 76,
     "metadata": {},
     "output_type": "execute_result"
    }
   ],
   "source": [
    "pattern = re.compile('P(\\d{8})L(\\d{8})')\n",
    "tag0 = pattern.findall(latex_rep)\n",
    "tag1 = pattern.findall(latex_JP) + re.compile('p(\\d{8})l(\\d{8})').findall(latex_JP)\n",
    "tag_miss = list((set(tag0) ^ set(tag1)) & set(tag0))\n",
    "tag_miss = [posl2tag(t) for t in tag_miss]\n",
    "(tag_miss)"
   ]
  },
  {
   "cell_type": "code",
   "execution_count": 77,
   "metadata": {},
   "outputs": [
    {
     "data": {
      "text/plain": [
       "94"
      ]
     },
     "execution_count": 77,
     "metadata": {},
     "output_type": "execute_result"
    }
   ],
   "source": [
    "target = [p for p in paras if tag_miss[0] in p]\n",
    "paras.index(target[0])"
   ]
  },
  {
   "cell_type": "code",
   "execution_count": 78,
   "metadata": {},
   "outputs": [
    {
     "data": {
      "text/plain": [
       "'It is well known that the general  P00079739L00000007 -dimensional quantum Hall insulator is characterized by the first Chern number  P00079825L00000018  in terms of the integration of the Berry connection over the Brillouin zone P00079919L00000023 . Its electromagnetic response is described by the action  P00080000L00000123   P00080124L00000003 Similarly, the  P00080142L00000007 -dimensional quantum Hall insulator is characterized by the second Chern number  P00080229L00000018  and described by the action  P00080276L00000172   P00080449L00000003 where  P00080458L00000155  with  P00080619L00000140   P00080760L00000003 Here we used a shorthand notation like  P00080802L00000041  and so on ( P00080855L00000005  may be rather understood as  P00080889L00000023 ) and  P00080918L00000014  denotes the Berry connection matrix in the momentum space given by  P00081000L00000131   P00081132L00000003 with  P00081140L00000020  being the Bloch state with  P00081188L00000008  representing the band index, and the trace in Eq. P00081246L00000001 ( P00081248L00000010 ) is taken over the occupied bands. Note that  P00081304L00000018  is expressed as  P00081339L00000118  where  P00081464L00000218   P00081683L00000002 '"
      ]
     },
     "execution_count": 78,
     "metadata": {},
     "output_type": "execute_result"
    }
   ],
   "source": [
    "paras[94]"
   ]
  },
  {
   "cell_type": "code",
   "execution_count": 79,
   "metadata": {},
   "outputs": [
    {
     "data": {
      "text/plain": [
       "'一般的なP00079739L00000007次元の量子ホール絶縁体は、ブリルアンゾーン上のベリー接続の積分P00079919L00000023の観点から、第1のChern数P00079825L00000018によって特徴付けられることはよく知られている。その電磁応答は、アクションP00080000L00000123 P00080124L00000003によって記述されます。同様に、P00080142L00000007 - 次元の量子ホール絶縁体は 次元の量子ホール絶縁体は第2のChern数P00080229L00000018で特徴付けられ、作用P00080276L00000172 P00080449L00000003で記述されます。ここでP00080458L00000155とP00080619L00000140 P00080760L00000003 ここではP00080802L00000041のような略記法を使用していますので P00081000L00000131 P00081132L00000003で与えられる運動量空間のベリー結合行列を表し、P00081140L00000020はブロッホ状態、P00081188L00000008はバンドインデックスを表しています。であり、Eq.のトレースは P00081246L00000001 ( P00081248L00000010 ) は、占有されているバンドで取られます。なお、P00081304L00000018はP00081339L00000118で表され、P00081464L00000218 P00081683L00000002 '"
      ]
     },
     "execution_count": 79,
     "metadata": {},
     "output_type": "execute_result"
    }
   ],
   "source": [
    "paras_JP[94]"
   ]
  },
  {
   "cell_type": "markdown",
   "metadata": {},
   "source": [
    "## Replace P(pos)L(len) to original LaTeX formula"
   ]
  },
  {
   "cell_type": "code",
   "execution_count": 80,
   "metadata": {},
   "outputs": [],
   "source": [
    "def replaceRule(match):\n",
    "    (pos, l) = (int(match.group(1)), int(match.group(2)))\n",
    "    return latex[pos:pos+l]"
   ]
  },
  {
   "cell_type": "code",
   "execution_count": 81,
   "metadata": {},
   "outputs": [],
   "source": [
    "latex_fin = re.sub('P(\\d{8})L(\\d{8})', replaceRule, latex_JP)\n",
    "latex_fin = re.sub('p(\\d{8})l(\\d{8})', replaceRule, latex_fin) # DeepL sometimes translates P->p and L->l\n",
    "latex_fin = latex[:doc.pos]+'\\\\begin{document}\\n'+latex_fin+'\\n\\\\end{document}'"
   ]
  },
  {
   "cell_type": "code",
   "execution_count": 82,
   "metadata": {},
   "outputs": [],
   "source": [
    "with open('test_JP.tex', mode='w') as f:\n",
    "    f.write(latex_fin)"
   ]
  },
  {
   "cell_type": "code",
   "execution_count": null,
   "metadata": {},
   "outputs": [],
   "source": []
  }
 ],
 "metadata": {
  "kernelspec": {
   "display_name": "Python 3",
   "language": "python",
   "name": "python3"
  },
  "language_info": {
   "codemirror_mode": {
    "name": "ipython",
    "version": 3
   },
   "file_extension": ".py",
   "mimetype": "text/x-python",
   "name": "python",
   "nbconvert_exporter": "python",
   "pygments_lexer": "ipython3",
   "version": "3.8.5"
  }
 },
 "nbformat": 4,
 "nbformat_minor": 4
}
