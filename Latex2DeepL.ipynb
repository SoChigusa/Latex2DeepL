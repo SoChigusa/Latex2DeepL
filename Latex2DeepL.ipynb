{
 "cells": [
  {
   "cell_type": "markdown",
   "metadata": {},
   "source": [
    "# Parse LaTeX file and convert into DeepL-friendly format"
   ]
  },
  {
   "cell_type": "markdown",
   "metadata": {},
   "source": [
    "## Input LaTeX source from file and parse\n",
    "\n",
    "First replace newly defined commands by original commands to help pylatexenc parsing well"
   ]
  },
  {
   "cell_type": "code",
   "execution_count": 17,
   "metadata": {},
   "outputs": [],
   "source": [
    "import re\n",
    "def replaceNewCommand(orig_command, match_command):\n",
    "    return orig_command + match_command.group(1)\n",
    "\n",
    "def preprocessing(orig):\n",
    "    mod = orig\n",
    "    while True:\n",
    "        match = re.search(r'\\\\newcommand\\{(.*)\\}\\{(.*)\\}', mod)\n",
    "        if match is None:\n",
    "            break\n",
    "        mod = mod.replace(match.group(), '')\n",
    "        mod = re.sub(match.group(1).replace('\\\\','\\\\\\\\')+'([\\\\\\\\ \\n\\{\\}])', lambda wrapper: replaceNewCommand(match.group(2), wrapper), mod)\n",
    "    return mod"
   ]
  },
  {
   "cell_type": "code",
   "execution_count": 18,
   "metadata": {},
   "outputs": [
    {
     "name": "stdin",
     "output_type": "stream",
     "text": [
      " EdgyStau.tex\n"
     ]
    }
   ],
   "source": [
    "from pylatexenc.latexwalker import LatexWalker, LatexCharsNode, LatexCommentNode, LatexEnvironmentNode, LatexMacroNode, LatexSpecialsNode\n",
    "\n",
    "input_file = input()\n",
    "with open(input_file) as f:\n",
    "    latex_orig = f.read()\n",
    "latex_mod = preprocessing(latex_orig)\n",
    "w = LatexWalker(latex_mod)\n",
    "(nodelist, pos, len_) = w.get_latex_nodes(pos=0)"
   ]
  },
  {
   "cell_type": "markdown",
   "metadata": {},
   "source": [
    "## Look for \\begin{document} ... \\end{document} environment"
   ]
  },
  {
   "cell_type": "code",
   "execution_count": 20,
   "metadata": {},
   "outputs": [],
   "source": [
    "# nodelist = nodelist[-1].nodelist[-1].nodelist[-1].nodelist[-1].nodelist[-1].nodelist[-1].nodelist[-1].nodelist[-1].nodelist[-1].nodelist[-1].nodelist[-1].nodelist ##################################################\n",
    "# nodelist = nodelist[-1].nodeargd.argnlist[-1].nodelist[-1].nodelist[-1].nodeargd.argnlist[-1].nodelist[-1].nodelist[-1].nodeargd.argnlist[-1].nodelist[-1].nodelist[-1].nodelist[-1].nodelist[-1].nodelist[-1].nodelist\n",
    "# nodelist = nodelist[-1].nodeargd.argnlist[-1].nodelist[-1].nodelist[-1].nodeargd.argnlist[-1].nodelist[-1].nodelist\n",
    "#nodelist = nodelist[-1].nodelist[-1].nodelist[-1].nodelist[-1].nodelist[-1].nodelist[-1].nodelist[-1].nodelist\n",
    "env = [n for n in nodelist if n.isNodeType(LatexEnvironmentNode)]\n",
    "doc = [e for e in env if e.environmentname=='document']\n",
    "if len(doc)==1:\n",
    "    doc = doc[0]\n",
    "else:\n",
    "    print('Unexpected format with more than one document environment')"
   ]
  },
  {
   "cell_type": "markdown",
   "metadata": {},
   "source": [
    "## Look for successive LaTeX special expressions and replace them by the format P(pos)L(len)"
   ]
  },
  {
   "cell_type": "code",
   "execution_count": 21,
   "metadata": {},
   "outputs": [],
   "source": [
    "format8 = '{:008}'\n",
    "def replaceSpecial(node):\n",
    "    if node.isNodeType(LatexCharsNode):\n",
    "        s = node.chars\n",
    "#    elif node.isNodeType(LatexCommentNode):\n",
    "#        s = ''\n",
    "    elif node.isNodeType(LatexSpecialsNode) and node.specials_chars == '~':\n",
    "        s = ' '\n",
    "    else:\n",
    "        s = ' P'+format8.format(node.pos)+'L'+format8.format(node.len)+' '\n",
    "    return s"
   ]
  },
  {
   "cell_type": "code",
   "execution_count": 22,
   "metadata": {},
   "outputs": [],
   "source": [
    "def replaceSuccessiveTags(match):\n",
    "    n_space = len(match.group(3))\n",
    "    return 'P'+match.group(1)+'L'+format8.format(int(match.group(2))+int(match.group(4))+n_space)"
   ]
  },
  {
   "cell_type": "code",
   "execution_count": 23,
   "metadata": {},
   "outputs": [],
   "source": [
    "dnl = doc.nodelist\n",
    "str_list = [replaceSpecial(n) for n in dnl]\n",
    "latex_rep = ''.join(str_list)\n",
    "while re.search('P(\\d{8})L(\\d{8}) ([ \\n]*) P\\d{8}L(\\d{8})', latex_rep) is not None:\n",
    "    latex_rep = re.sub('P(\\d{8})L(\\d{8}) ([ \\n]*) P\\d{8}L(\\d{8})', replaceSuccessiveTags, latex_rep)"
   ]
  },
  {
   "cell_type": "markdown",
   "metadata": {},
   "source": [
    "## Preprocess the string and translate using DeepL"
   ]
  },
  {
   "cell_type": "code",
   "execution_count": 24,
   "metadata": {},
   "outputs": [],
   "source": [
    "paras = re.split('\\n\\n', latex_rep)\n",
    "paras = [p.replace('\\n', ' ') for p in paras]"
   ]
  },
  {
   "cell_type": "code",
   "execution_count": 25,
   "metadata": {},
   "outputs": [],
   "source": [
    "from selenium import webdriver\n",
    "from selenium.webdriver.chrome.options import Options\n",
    "from selenium.webdriver.common.keys import Keys\n",
    "import time\n",
    "import pyperclip as ppc\n",
    "\n",
    "options = Options()\n",
    "options.add_argument('--disable-gpu')\n",
    "options.add_argument('--disable-extensions')\n",
    "options.add_argument('--proxy-server=\"direct://\"')\n",
    "options.add_argument('--proxy-bypass-list=*')\n",
    "options.add_argument('--start-maximized')\n",
    "\n",
    "DRIVER_PATH = '/usr/local/bin/chromedriver'\n",
    "driver = webdriver.Chrome(executable_path=DRIVER_PATH, options=options)\n",
    "\n",
    "load_url = 'https://www.deepl.com/ja/translator#en/ja'\n",
    "driver.get(load_url)\n",
    "\n",
    "clipboard = ppc.paste()\n",
    "stextarea = driver.find_element_by_css_selector(\n",
    "    '.lmt__textarea.lmt__source_textarea.lmt__textarea_base_style')\n",
    "ttextarea = driver.find_element_by_css_selector(\n",
    "    '.lmt__textarea.lmt__target_textarea.lmt__textarea_base_style')"
   ]
  },
  {
   "cell_type": "code",
   "execution_count": 26,
   "metadata": {},
   "outputs": [],
   "source": [
    "def translateParagraph(par):\n",
    "    if par == '' or re.fullmatch('[ \\n]+', par) is not None:\n",
    "        return par\n",
    "    ppc.copy(par)\n",
    "    stextarea.send_keys(Keys.COMMAND, 'v')\n",
    "    translated_text = ''\n",
    "    while not translated_text:\n",
    "        time.sleep(1)\n",
    "        translated_text = ttextarea.get_property('value')\n",
    "    stextarea.send_keys(Keys.COMMAND, 'a')\n",
    "    stextarea.send_keys(Keys.BACKSPACE)\n",
    "    return translated_text"
   ]
  },
  {
   "cell_type": "code",
   "execution_count": 27,
   "metadata": {},
   "outputs": [],
   "source": [
    "paras_ja = [translateParagraph(par) for par in paras]\n",
    "latex_ja = '\\n\\n'.join(paras_ja)"
   ]
  },
  {
   "cell_type": "code",
   "execution_count": 28,
   "metadata": {},
   "outputs": [],
   "source": [
    "ppc.copy(clipboard)\n",
    "driver.quit()"
   ]
  },
  {
   "cell_type": "markdown",
   "metadata": {},
   "source": [
    "## Debug: comparing original tags and \"translated\" ones"
   ]
  },
  {
   "cell_type": "code",
   "execution_count": 29,
   "metadata": {},
   "outputs": [],
   "source": [
    "def posl2tag(posl):\n",
    "    return 'P'+posl[0]+'L'+posl[1]"
   ]
  },
  {
   "cell_type": "code",
   "execution_count": 30,
   "metadata": {},
   "outputs": [
    {
     "data": {
      "text/plain": [
       "['P00049023L00000002',\n",
       " 'P00049136L00000002',\n",
       " 'P00039062L00000019',\n",
       " 'P00051936L00000008',\n",
       " 'P00054323L00000010',\n",
       " 'P00024720L00000010',\n",
       " 'P00017777L00000011',\n",
       " 'P00051980L00000027',\n",
       " 'P00003956L00000022',\n",
       " 'P00051949L00000005',\n",
       " 'P00049114L00000018',\n",
       " 'P00051602L00000016',\n",
       " 'P00054344L00000008',\n",
       " 'P00024754L00000013',\n",
       " 'P00004118L00000017']"
      ]
     },
     "execution_count": 30,
     "metadata": {},
     "output_type": "execute_result"
    }
   ],
   "source": [
    "pattern = re.compile('P(\\d{8})L(\\d{8})')\n",
    "tag0 = pattern.findall(latex_rep)\n",
    "tag1 = pattern.findall(latex_ja) + re.compile('p(\\d{8})l(\\d{8})').findall(latex_ja)\n",
    "tag_miss = list((set(tag0) ^ set(tag1)) & set(tag0))\n",
    "tag_miss = [posl2tag(t) for t in tag_miss]\n",
    "(tag_miss)"
   ]
  },
  {
   "cell_type": "code",
   "execution_count": 31,
   "metadata": {},
   "outputs": [
    {
     "data": {
      "text/plain": [
       "40"
      ]
     },
     "execution_count": 31,
     "metadata": {},
     "output_type": "execute_result"
    }
   ],
   "source": [
    "target = [p for p in paras if tag_miss[0] in p]\n",
    "paras.index(target[0])"
   ]
  },
  {
   "cell_type": "code",
   "execution_count": 33,
   "metadata": {},
   "outputs": [],
   "source": [
    "#paras[9]"
   ]
  },
  {
   "cell_type": "code",
   "execution_count": 34,
   "metadata": {},
   "outputs": [],
   "source": [
    "#paras_ja[9]"
   ]
  },
  {
   "cell_type": "code",
   "execution_count": 35,
   "metadata": {},
   "outputs": [],
   "source": [
    "warning1 = '\\nLatex2DeepL missing expresion warning: '\n",
    "warning2 = ', '\n",
    "def addMissingExpressionWarning(tag):\n",
    "    target = [p for p in paras if tag in p]\n",
    "    index = paras.index(target[0])\n",
    "    if re.search(warning1, paras_ja[index]) is None:\n",
    "        paras_ja[index] += warning1+'\\\"'+tag+'\\\", '\n",
    "    else:\n",
    "        paras_ja[index] += '\\\"'+tag+'\\\", '\n",
    "for t in tag_miss:\n",
    "    addMissingExpressionWarning(t)"
   ]
  },
  {
   "cell_type": "code",
   "execution_count": 36,
   "metadata": {},
   "outputs": [],
   "source": [
    "latex_ja = '\\n\\n'.join(paras_ja)"
   ]
  },
  {
   "cell_type": "markdown",
   "metadata": {},
   "source": [
    "## Replace P(pos)L(len) to original LaTeX formula"
   ]
  },
  {
   "cell_type": "code",
   "execution_count": 37,
   "metadata": {},
   "outputs": [],
   "source": [
    "def replaceRule(match):\n",
    "    (pos, l) = (int(match.group(1)), int(match.group(2)))\n",
    "    return latex[pos:pos+l]"
   ]
  },
  {
   "cell_type": "code",
   "execution_count": 38,
   "metadata": {},
   "outputs": [],
   "source": [
    "latex_fin = re.sub('P(\\d{8})L(\\d{8})', replaceRule, latex_ja)\n",
    "latex_fin = re.sub('p(\\d{8})l(\\d{8})', replaceRule, latex_fin) # DeepL sometimes translates P->p and L->l\n",
    "latex_fin = latex[:doc.pos]+'\\\\begin{document}\\n'+latex_fin+'\\n\\\\end{document}'"
   ]
  },
  {
   "cell_type": "code",
   "execution_count": 39,
   "metadata": {},
   "outputs": [],
   "source": [
    "(head, ext) = re.split('\\.', input_file)\n",
    "output_file = head+'_ja.'+ext\n",
    "with open(output_file, mode='w') as f:\n",
    "    f.write(latex_fin)"
   ]
  },
  {
   "cell_type": "code",
   "execution_count": null,
   "metadata": {},
   "outputs": [],
   "source": []
  }
 ],
 "metadata": {
  "kernelspec": {
   "display_name": "Python 3",
   "language": "python",
   "name": "python3"
  },
  "language_info": {
   "codemirror_mode": {
    "name": "ipython",
    "version": 3
   },
   "file_extension": ".py",
   "mimetype": "text/x-python",
   "name": "python",
   "nbconvert_exporter": "python",
   "pygments_lexer": "ipython3",
   "version": "3.8.5"
  }
 },
 "nbformat": 4,
 "nbformat_minor": 4
}
