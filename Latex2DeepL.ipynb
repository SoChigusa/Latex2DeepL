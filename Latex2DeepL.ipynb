{
 "cells": [
  {
   "cell_type": "markdown",
   "metadata": {},
   "source": [
    "# Parse LaTeX file and convert into DeepL-friendly format"
   ]
  },
  {
   "cell_type": "markdown",
   "metadata": {},
   "source": [
    "## Input LaTeX source from file and parse\n",
    "\n",
    "First replace newly defined commands by original commands to help pylatexenc parsing well"
   ]
  },
  {
   "cell_type": "code",
   "execution_count": 1,
   "metadata": {},
   "outputs": [],
   "source": [
    "import re\n",
    "def replaceNewCommand(orig_command, match_command):\n",
    "    return orig_command + match_command.group(1)\n",
    "\n",
    "def preprocessing(orig):\n",
    "    mod = orig\n",
    "    while True:\n",
    "        match = re.search(r'\\\\newcommand\\{(.*)\\}\\{(.*)\\}', mod)\n",
    "        if match is None:\n",
    "            break\n",
    "        mod = mod.replace(match.group(), '')\n",
    "        mod = re.sub(match.group(1).replace('\\\\','\\\\\\\\')+'([\\\\\\\\ \\n\\{\\}\\(\\)\\^\\$])', lambda wrapper: replaceNewCommand(match.group(2), wrapper), mod)\n",
    "    return mod"
   ]
  },
  {
   "cell_type": "code",
   "execution_count": 142,
   "metadata": {},
   "outputs": [],
   "source": [
    "def outputLatex(of, nl):\n",
    "    latex = ''\n",
    "    if type(nl) is not list:\n",
    "        nl = [nl]\n",
    "    for i in range(len(nl)):\n",
    "        if nl[i] is None:\n",
    "            continue\n",
    "        if nl[i].isNodeType(LatexCharsNode):\n",
    "            latex += nl[i].chars\n",
    "        # elif nl[i].isNodeType(LatexCommentNode):\n",
    "        #    \n",
    "        elif nl[i].isNodeType(LatexEnvironmentNode):\n",
    "            evn = nl[i].environmentname\n",
    "            latex += '\\\\begin{'+evn+'}'\n",
    "            latex += outputLatex('', nl[i].nodelist)\n",
    "            latex += '\\\\end{'+evn+'}'\n",
    "        elif nl[i].isNodeType(LatexGroupNode):\n",
    "            latex += nl[i].delimiters[0]\n",
    "            latex += outputLatex('', nl[i].nodelist)\n",
    "            latex += nl[i].delimiters[1]\n",
    "        elif nl[i].isNodeType(LatexMacroNode):\n",
    "            latex += '\\\\'+nl[i].macroname\n",
    "            for argn in nl[i].nodeargd.argnlist:\n",
    "                latex += outputLatex('', argn)\n",
    "            latex += nl[i].macro_post_space\n",
    "        elif nl[i].isNodeType(LatexSpecialsNode):\n",
    "            latex += nl[i].specials_chars\n",
    "    if of != '':\n",
    "        with open(of, mode='w') as f:\n",
    "            f.write(latex)\n",
    "    else:\n",
    "        return latex"
   ]
  },
  {
   "cell_type": "code",
   "execution_count": 143,
   "metadata": {},
   "outputs": [],
   "source": [
    "outputLatex('test.tex', nodelist)"
   ]
  },
  {
   "cell_type": "code",
   "execution_count": 149,
   "metadata": {},
   "outputs": [
    {
     "name": "stdin",
     "output_type": "stream",
     "text": [
      " topoanglearxiv.tex\n"
     ]
    }
   ],
   "source": [
    "from pylatexenc.latexwalker import LatexWalker, LatexCharsNode, LatexCommentNode, LatexEnvironmentNode, LatexMacroNode, LatexSpecialsNode\n",
    "\n",
    "input_file = input()\n",
    "with open(input_file) as f:\n",
    "    latex_orig = f.read()\n",
    "latex_mod = preprocessing(latex_orig)\n",
    "w = LatexWalker(latex_mod)\n",
    "(nodelist, pos, len_) = w.get_latex_nodes(pos=0)"
   ]
  },
  {
   "cell_type": "markdown",
   "metadata": {},
   "source": [
    "## Look for \\begin{document} ... \\end{document} environment"
   ]
  },
  {
   "cell_type": "markdown",
   "metadata": {},
   "source": [
    "Tempolary: search for the document environment step by step"
   ]
  },
  {
   "cell_type": "code",
   "execution_count": 107,
   "metadata": {},
   "outputs": [],
   "source": [
    "def searchDocument(nl):\n",
    "    for i in range(len(nl)):\n",
    "        if nl[i] is None:\n",
    "            continue\n",
    "        if nl[i].isNodeType(LatexEnvironmentNode) and nl[i].environmentname == 'document':\n",
    "            return nl[i]\n",
    "            # return [i]\n",
    "        else:\n",
    "            if nl[i].isNodeType(LatexCharsNode) or nl[i].isNodeType(LatexCommentNode):\n",
    "                continue\n",
    "            elif nl[i].isNodeType(LatexMacroNode):\n",
    "                print(nl[i])\n",
    "                next = nl[i].nodeargd.argnlist\n",
    "            else:\n",
    "                next = nl[i].nodelist\n",
    "            res = searchDocument(next)\n",
    "            if res != []:\n",
    "                return res\n",
    "                # return [i,res]\n",
    "    return []"
   ]
  },
  {
   "cell_type": "code",
   "execution_count": 118,
   "metadata": {},
   "outputs": [
    {
     "name": "stdout",
     "output_type": "stream",
     "text": [
      "LatexMacroNode(parsing_state=<parsing state 140419025221712>, pos=0, len=83, macroname='documentclass', nodeargd=ParsedMacroArgs(argspec='[{', argnlist=[LatexGroupNode(parsing_state=<parsing state 140419025221712>, pos=14, len=60, nodelist=[LatexCharsNode(parsing_state=<parsing state 140419025221712>, pos=15, len=58, chars='prl,showpacs,superscriptaddress,twocolumn,amssymb,amsfonts')], delimiters=('[', ']')), LatexGroupNode(parsing_state=<parsing state 140419025221712>, pos=74, len=9, nodelist=[LatexCharsNode(parsing_state=<parsing state 140419025221712>, pos=75, len=7, chars='revtex4')], delimiters=('{', '}'))]), macro_post_space='')\n",
      "LatexMacroNode(parsing_state=<parsing state 140419025221712>, pos=282, len=20, macroname='usepackage', nodeargd=ParsedMacroArgs(argspec='[{', argnlist=[None, LatexGroupNode(parsing_state=<parsing state 140419025221712>, pos=293, len=9, nodelist=[LatexCharsNode(parsing_state=<parsing state 140419025221712>, pos=294, len=7, chars='amsmath')], delimiters=('{', '}'))]), macro_post_space='')\n",
      "LatexMacroNode(parsing_state=<parsing state 140419025221712>, pos=303, len=15, macroname='usepackage', nodeargd=ParsedMacroArgs(argspec='[{', argnlist=[None, LatexGroupNode(parsing_state=<parsing state 140419025221712>, pos=314, len=4, nodelist=[LatexCharsNode(parsing_state=<parsing state 140419025221712>, pos=315, len=2, chars='bm')], delimiters=('{', '}'))]), macro_post_space='')\n",
      "LatexMacroNode(parsing_state=<parsing state 140419025221712>, pos=319, len=19, macroname='usepackage', nodeargd=ParsedMacroArgs(argspec='[{', argnlist=[None, LatexGroupNode(parsing_state=<parsing state 140419025221712>, pos=330, len=8, nodelist=[LatexCharsNode(parsing_state=<parsing state 140419025221712>, pos=331, len=6, chars='epsfig')], delimiters=('{', '}'))]), macro_post_space='')\n",
      "LatexMacroNode(parsing_state=<parsing state 140419025221712>, pos=339, len=21, macroname='usepackage', nodeargd=ParsedMacroArgs(argspec='[{', argnlist=[None, LatexGroupNode(parsing_state=<parsing state 140419025221712>, pos=350, len=10, nodelist=[LatexCharsNode(parsing_state=<parsing state 140419025221712>, pos=351, len=8, chars='graphics')], delimiters=('{', '}'))]), macro_post_space='')\n",
      "LatexMacroNode(parsing_state=<parsing state 140419025221712>, pos=386, len=4, macroname='def', nodeargd=ParsedMacroArgs(argspec='', argnlist=[]), macro_post_space='')\n",
      "LatexMacroNode(parsing_state=<parsing state 140419025221712>, pos=390, len=4, macroname='beq', nodeargd=ParsedMacroArgs(argspec='', argnlist=[]), macro_post_space='')\n",
      "LatexMacroNode(parsing_state=<parsing state 140419025242384>, pos=413, len=4, macroname='def', nodeargd=ParsedMacroArgs(argspec='', argnlist=[]), macro_post_space='')\n",
      "LatexMacroNode(parsing_state=<parsing state 140419025242384>, pos=417, len=4, macroname='eeq', nodeargd=ParsedMacroArgs(argspec='', argnlist=[]), macro_post_space='')\n",
      "LatexMacroNode(parsing_state=<parsing state 140419025242384>, pos=438, len=4, macroname='def', nodeargd=ParsedMacroArgs(argspec='', argnlist=[]), macro_post_space='')\n",
      "LatexMacroNode(parsing_state=<parsing state 140419025242384>, pos=442, len=5, macroname='beqn', nodeargd=ParsedMacroArgs(argspec='', argnlist=[]), macro_post_space='')\n",
      "LatexMacroNode(parsing_state=<parsing state 140419025242720>, pos=466, len=4, macroname='def', nodeargd=ParsedMacroArgs(argspec='', argnlist=[]), macro_post_space='')\n",
      "LatexMacroNode(parsing_state=<parsing state 140419025242720>, pos=470, len=5, macroname='eeqn', nodeargd=ParsedMacroArgs(argspec='', argnlist=[]), macro_post_space='')\n",
      "LatexMacroNode(parsing_state=<parsing state 140419025242720>, pos=493, len=4, macroname='def', nodeargd=ParsedMacroArgs(argspec='', argnlist=[]), macro_post_space='')\n",
      "LatexMacroNode(parsing_state=<parsing state 140419025242720>, pos=497, len=2, macroname='E', nodeargd=ParsedMacroArgs(argspec='', argnlist=[]), macro_post_space='')\n",
      "LatexMacroNode(parsing_state=<parsing state 140419025242720>, pos=501, len=4, macroname='bf', nodeargd=ParsedMacroArgs(argspec='', argnlist=[]), macro_post_space=' ')\n",
      "LatexMacroNode(parsing_state=<parsing state 140419025242720>, pos=509, len=4, macroname='def', nodeargd=ParsedMacroArgs(argspec='', argnlist=[]), macro_post_space='')\n",
      "LatexMacroNode(parsing_state=<parsing state 140419025242720>, pos=513, len=2, macroname='B', nodeargd=ParsedMacroArgs(argspec='', argnlist=[]), macro_post_space='')\n",
      "LatexMacroNode(parsing_state=<parsing state 140419025242720>, pos=517, len=4, macroname='bf', nodeargd=ParsedMacroArgs(argspec='', argnlist=[]), macro_post_space=' ')\n",
      "LatexMacroNode(parsing_state=<parsing state 140419025242720>, pos=525, len=4, macroname='def', nodeargd=ParsedMacroArgs(argspec='', argnlist=[]), macro_post_space='')\n",
      "LatexMacroNode(parsing_state=<parsing state 140419025242720>, pos=529, len=2, macroname='P', nodeargd=ParsedMacroArgs(argspec='', argnlist=[]), macro_post_space='')\n",
      "LatexMacroNode(parsing_state=<parsing state 140419025242720>, pos=533, len=4, macroname='bf', nodeargd=ParsedMacroArgs(argspec='', argnlist=[]), macro_post_space=' ')\n",
      "LatexMacroNode(parsing_state=<parsing state 140419025242720>, pos=541, len=4, macroname='def', nodeargd=ParsedMacroArgs(argspec='', argnlist=[]), macro_post_space='')\n",
      "LatexMacroNode(parsing_state=<parsing state 140419025242720>, pos=545, len=2, macroname='M', nodeargd=ParsedMacroArgs(argspec='', argnlist=[]), macro_post_space='')\n",
      "LatexMacroNode(parsing_state=<parsing state 140419025242720>, pos=549, len=4, macroname='bf', nodeargd=ParsedMacroArgs(argspec='', argnlist=[]), macro_post_space=' ')\n",
      "LatexMacroNode(parsing_state=<parsing state 140419025242720>, pos=557, len=4, macroname='def', nodeargd=ParsedMacroArgs(argspec='', argnlist=[]), macro_post_space='')\n",
      "LatexMacroNode(parsing_state=<parsing state 140419025242720>, pos=561, len=2, macroname='K', nodeargd=ParsedMacroArgs(argspec='', argnlist=[]), macro_post_space='')\n",
      "LatexMacroNode(parsing_state=<parsing state 140419025242720>, pos=565, len=4, macroname='bf', nodeargd=ParsedMacroArgs(argspec='', argnlist=[]), macro_post_space=' ')\n",
      "LatexMacroNode(parsing_state=<parsing state 140419025242720>, pos=573, len=4, macroname='def', nodeargd=ParsedMacroArgs(argspec='', argnlist=[]), macro_post_space='')\n",
      "LatexMacroNode(parsing_state=<parsing state 140419025242720>, pos=577, len=11, macroname='k', nodeargd=ParsedMacroArgs(argspec='{', argnlist=[LatexGroupNode(parsing_state=<parsing state 140419025242720>, pos=579, len=9, nodelist=[LatexGroupNode(parsing_state=<parsing state 140419025242720>, pos=580, len=7, nodelist=[LatexMacroNode(parsing_state=<parsing state 140419025242720>, pos=581, len=4, macroname='bf', nodeargd=ParsedMacroArgs(argspec='', argnlist=[]), macro_post_space=' '), LatexCharsNode(parsing_state=<parsing state 140419025242720>, pos=585, len=1, chars='k')], delimiters=('{', '}'))], delimiters=('{', '}'))]), macro_post_space='')\n",
      "LatexMacroNode(parsing_state=<parsing state 140419025242720>, pos=581, len=4, macroname='bf', nodeargd=ParsedMacroArgs(argspec='', argnlist=[]), macro_post_space=' ')\n",
      "LatexMacroNode(parsing_state=<parsing state 140419025242720>, pos=589, len=4, macroname='def', nodeargd=ParsedMacroArgs(argspec='', argnlist=[]), macro_post_space='')\n",
      "LatexMacroNode(parsing_state=<parsing state 140419025242720>, pos=593, len=11, macroname='r', nodeargd=ParsedMacroArgs(argspec='{', argnlist=[LatexGroupNode(parsing_state=<parsing state 140419025242720>, pos=595, len=9, nodelist=[LatexGroupNode(parsing_state=<parsing state 140419025242720>, pos=596, len=7, nodelist=[LatexMacroNode(parsing_state=<parsing state 140419025242720>, pos=597, len=4, macroname='bf', nodeargd=ParsedMacroArgs(argspec='', argnlist=[]), macro_post_space=' '), LatexCharsNode(parsing_state=<parsing state 140419025242720>, pos=601, len=1, chars='r')], delimiters=('{', '}'))], delimiters=('{', '}'))]), macro_post_space='')\n",
      "LatexMacroNode(parsing_state=<parsing state 140419025242720>, pos=597, len=4, macroname='bf', nodeargd=ParsedMacroArgs(argspec='', argnlist=[]), macro_post_space=' ')\n",
      "LatexMacroNode(parsing_state=<parsing state 140419025242720>, pos=605, len=4, macroname='def', nodeargd=ParsedMacroArgs(argspec='', argnlist=[]), macro_post_space='')\n",
      "LatexMacroNode(parsing_state=<parsing state 140419025242720>, pos=609, len=4, macroname='del', nodeargd=ParsedMacroArgs(argspec='', argnlist=[]), macro_post_space='')\n",
      "LatexMacroNode(parsing_state=<parsing state 140419025242720>, pos=614, len=8, macroname='partial', nodeargd=ParsedMacroArgs(argspec='', argnlist=[]), macro_post_space='')\n",
      "LatexMacroNode(parsing_state=<parsing state 140419025242720>, pos=624, len=4, macroname='def', nodeargd=ParsedMacroArgs(argspec='', argnlist=[]), macro_post_space='')\n",
      "LatexMacroNode(parsing_state=<parsing state 140419025242720>, pos=628, len=2, macroname='F', nodeargd=ParsedMacroArgs(argspec='', argnlist=[]), macro_post_space='')\n",
      "LatexMacroNode(parsing_state=<parsing state 140419025242720>, pos=632, len=5, macroname='cal', nodeargd=ParsedMacroArgs(argspec='', argnlist=[]), macro_post_space=' ')\n",
      "LatexMacroNode(parsing_state=<parsing state 140419025242720>, pos=641, len=4, macroname='def', nodeargd=ParsedMacroArgs(argspec='', argnlist=[]), macro_post_space='')\n",
      "LatexMacroNode(parsing_state=<parsing state 140419025242720>, pos=645, len=2, macroname='A', nodeargd=ParsedMacroArgs(argspec='', argnlist=[]), macro_post_space='')\n",
      "LatexMacroNode(parsing_state=<parsing state 140419025242720>, pos=649, len=5, macroname='cal', nodeargd=ParsedMacroArgs(argspec='', argnlist=[]), macro_post_space=' ')\n",
      "LatexMacroNode(parsing_state=<parsing state 140419025242720>, pos=658, len=4, macroname='def', nodeargd=ParsedMacroArgs(argspec='', argnlist=[]), macro_post_space='')\n",
      "LatexMacroNode(parsing_state=<parsing state 140419025242720>, pos=662, len=5, macroname='ket', nodeargd=ParsedMacroArgs(argspec='{', argnlist=[LatexCharsNode(parsing_state=<parsing state 140419025242720>, pos=666, len=1, chars='#')]), macro_post_space='')\n",
      "LatexMacroNode(parsing_state=<parsing state 140419025242720>, pos=669, len=6, macroname='vert', nodeargd=ParsedMacroArgs(argspec='', argnlist=[]), macro_post_space=' ')\n",
      "LatexMacroNode(parsing_state=<parsing state 140419025242720>, pos=678, len=7, macroname='rangle', nodeargd=ParsedMacroArgs(argspec='', argnlist=[]), macro_post_space='')\n",
      "LatexMacroNode(parsing_state=<parsing state 140419025242720>, pos=687, len=4, macroname='def', nodeargd=ParsedMacroArgs(argspec='', argnlist=[]), macro_post_space='')\n",
      "LatexMacroNode(parsing_state=<parsing state 140419025242720>, pos=691, len=3, macroname='ev', nodeargd=ParsedMacroArgs(argspec='', argnlist=[]), macro_post_space='')\n",
      "LatexMacroNode(parsing_state=<parsing state 140419025242720>, pos=697, len=8, macroname='langle', nodeargd=ParsedMacroArgs(argspec='', argnlist=[]), macro_post_space=' ')\n",
      "LatexMacroNode(parsing_state=<parsing state 140419025242720>, pos=708, len=7, macroname='rangle', nodeargd=ParsedMacroArgs(argspec='', argnlist=[]), macro_post_space='')\n",
      "LatexMacroNode(parsing_state=<parsing state 140419025242720>, pos=717, len=4, macroname='def', nodeargd=ParsedMacroArgs(argspec='', argnlist=[]), macro_post_space='')\n",
      "LatexMacroNode(parsing_state=<parsing state 140419025242720>, pos=721, len=3, macroname='ip', nodeargd=ParsedMacroArgs(argspec='', argnlist=[]), macro_post_space='')\n",
      "LatexMacroNode(parsing_state=<parsing state 140419025242720>, pos=729, len=8, macroname='langle', nodeargd=ParsedMacroArgs(argspec='', argnlist=[]), macro_post_space=' ')\n",
      "LatexMacroNode(parsing_state=<parsing state 140419025242720>, pos=740, len=6, macroname='vert', nodeargd=ParsedMacroArgs(argspec='', argnlist=[]), macro_post_space=' ')\n",
      "LatexMacroNode(parsing_state=<parsing state 140419025242720>, pos=749, len=7, macroname='rangle', nodeargd=ParsedMacroArgs(argspec='', argnlist=[]), macro_post_space='')\n",
      "LatexMacroNode(parsing_state=<parsing state 140419025242720>, pos=758, len=4, macroname='def', nodeargd=ParsedMacroArgs(argspec='', argnlist=[]), macro_post_space='')\n",
      "LatexMacroNode(parsing_state=<parsing state 140419025242720>, pos=762, len=3, macroname='me', nodeargd=ParsedMacroArgs(argspec='', argnlist=[]), macro_post_space='')\n",
      "LatexMacroNode(parsing_state=<parsing state 140419025242720>, pos=772, len=8, macroname='langle', nodeargd=ParsedMacroArgs(argspec='', argnlist=[]), macro_post_space=' ')\n",
      "LatexMacroNode(parsing_state=<parsing state 140419025242720>, pos=783, len=6, macroname='vert', nodeargd=ParsedMacroArgs(argspec='', argnlist=[]), macro_post_space=' ')\n",
      "LatexMacroNode(parsing_state=<parsing state 140419025242720>, pos=792, len=6, macroname='vert', nodeargd=ParsedMacroArgs(argspec='', argnlist=[]), macro_post_space=' ')\n",
      "LatexMacroNode(parsing_state=<parsing state 140419025242720>, pos=801, len=7, macroname='rangle', nodeargd=ParsedMacroArgs(argspec='', argnlist=[]), macro_post_space='')\n",
      "LatexMacroNode(parsing_state=<parsing state 140419025242720>, pos=810, len=4, macroname='def', nodeargd=ParsedMacroArgs(argspec='', argnlist=[]), macro_post_space='')\n",
      "LatexMacroNode(parsing_state=<parsing state 140419025242720>, pos=814, len=4, macroname='inh', nodeargd=ParsedMacroArgs(argspec='', argnlist=[]), macro_post_space='')\n",
      "LatexMacroNode(parsing_state=<parsing state 140419025242720>, pos=821, len=4, macroname='rm', nodeargd=ParsedMacroArgs(argspec='', argnlist=[]), macro_post_space=' ')\n",
      "LatexMacroNode(parsing_state=<parsing state 140419025242720>, pos=832, len=4, macroname='def', nodeargd=ParsedMacroArgs(argspec='', argnlist=[]), macro_post_space='')\n",
      "LatexMacroNode(parsing_state=<parsing state 140419025242720>, pos=836, len=6, macroname='intbz', nodeargd=ParsedMacroArgs(argspec='', argnlist=[]), macro_post_space='')\n",
      "LatexMacroNode(parsing_state=<parsing state 140419025242720>, pos=843, len=4, macroname='int', nodeargd=ParsedMacroArgs(argspec='', argnlist=[]), macro_post_space='')\n",
      "LatexMacroNode(parsing_state=<parsing state 140419025242720>, pos=849, len=4, macroname='rm', nodeargd=ParsedMacroArgs(argspec='', argnlist=[]), macro_post_space=' ')\n",
      "LatexMacroNode(parsing_state=<parsing state 140419025242720>, pos=856, len=21, macroname='frac', nodeargd=ParsedMacroArgs(argspec='{{', argnlist=[LatexGroupNode(parsing_state=<parsing state 140419025242720>, pos=861, len=6, nodelist=[LatexCharsNode(parsing_state=<parsing state 140419025242720>, pos=862, len=4, chars='d^3k')], delimiters=('{', '}')), LatexGroupNode(parsing_state=<parsing state 140419025242720>, pos=867, len=10, nodelist=[LatexCharsNode(parsing_state=<parsing state 140419025242720>, pos=868, len=2, chars='(2'), LatexMacroNode(parsing_state=<parsing state 140419025242720>, pos=870, len=3, macroname='pi', nodeargd=ParsedMacroArgs(argspec='', argnlist=[]), macro_post_space=''), LatexCharsNode(parsing_state=<parsing state 140419025242720>, pos=873, len=3, chars=')^3')], delimiters=('{', '}'))]), macro_post_space='')\n",
      "LatexMacroNode(parsing_state=<parsing state 140419025242720>, pos=870, len=3, macroname='pi', nodeargd=ParsedMacroArgs(argspec='', argnlist=[]), macro_post_space='')\n"
     ]
    }
   ],
   "source": [
    "doc = searchDocument(nodelist)\n",
    "# env = [n for n in nodelist if n.isNodeType(LatexEnvironmentNode)]\n",
    "# doc = [e for e in env if e.environmentname=='document']\n",
    "# if len(doc)==1:\n",
    "#    doc = doc[0]\n",
    "#else:\n",
    "#    print('Unexpected format with more than one document environment')"
   ]
  },
  {
   "cell_type": "markdown",
   "metadata": {},
   "source": [
    "## Look for successive LaTeX special expressions and replace them by the format P(pos)L(len)"
   ]
  },
  {
   "cell_type": "code",
   "execution_count": 5,
   "metadata": {},
   "outputs": [],
   "source": [
    "format8 = '{:008}'\n",
    "def replaceSpecial(node):\n",
    "    if node.isNodeType(LatexCharsNode):\n",
    "        s = node.chars\n",
    "#    elif node.isNodeType(LatexCommentNode):\n",
    "#        s = ''\n",
    "    elif node.isNodeType(LatexSpecialsNode) and node.specials_chars == '~':\n",
    "        s = ' '\n",
    "    else:\n",
    "        s = ' P'+format8.format(node.pos)+'L'+format8.format(node.len)+' '\n",
    "    return s"
   ]
  },
  {
   "cell_type": "code",
   "execution_count": 6,
   "metadata": {},
   "outputs": [],
   "source": [
    "def replaceSuccessiveTags(match):\n",
    "    n_space = len(match.group(3))\n",
    "    return 'P'+match.group(1)+'L'+format8.format(int(match.group(2))+int(match.group(4))+n_space)"
   ]
  },
  {
   "cell_type": "code",
   "execution_count": 7,
   "metadata": {},
   "outputs": [],
   "source": [
    "dnl = doc.nodelist\n",
    "str_list = [replaceSpecial(n) for n in dnl]\n",
    "latex_rep = ''.join(str_list)\n",
    "while re.search('P(\\d{8})L(\\d{8}) ([ \\n]*) P\\d{8}L(\\d{8})', latex_rep) is not None:\n",
    "    latex_rep = re.sub('P(\\d{8})L(\\d{8}) ([ \\n]*) P\\d{8}L(\\d{8})', replaceSuccessiveTags, latex_rep)"
   ]
  },
  {
   "cell_type": "markdown",
   "metadata": {},
   "source": [
    "## Preprocess the string and translate using DeepL"
   ]
  },
  {
   "cell_type": "code",
   "execution_count": 8,
   "metadata": {},
   "outputs": [],
   "source": [
    "paras = re.split('\\n\\n', latex_rep)\n",
    "paras = [p.replace('\\n', ' ') for p in paras]"
   ]
  },
  {
   "cell_type": "code",
   "execution_count": 9,
   "metadata": {},
   "outputs": [],
   "source": [
    "from selenium import webdriver\n",
    "from selenium.webdriver.chrome.options import Options\n",
    "from selenium.webdriver.common.keys import Keys\n",
    "import time\n",
    "import pyperclip as ppc\n",
    "\n",
    "options = Options()\n",
    "options.add_argument('--disable-gpu')\n",
    "options.add_argument('--disable-extensions')\n",
    "options.add_argument('--proxy-server=\"direct://\"')\n",
    "options.add_argument('--proxy-bypass-list=*')\n",
    "options.add_argument('--start-maximized')\n",
    "\n",
    "DRIVER_PATH = '/usr/local/bin/chromedriver'\n",
    "driver = webdriver.Chrome(executable_path=DRIVER_PATH, options=options)\n",
    "\n",
    "load_url = 'https://www.deepl.com/ja/translator#en/ja'\n",
    "driver.get(load_url)\n",
    "\n",
    "clipboard = ppc.paste()\n",
    "stextarea = driver.find_element_by_css_selector(\n",
    "    '.lmt__textarea.lmt__source_textarea.lmt__textarea_base_style')\n",
    "ttextarea = driver.find_element_by_css_selector(\n",
    "    '.lmt__textarea.lmt__target_textarea.lmt__textarea_base_style')"
   ]
  },
  {
   "cell_type": "code",
   "execution_count": 10,
   "metadata": {},
   "outputs": [],
   "source": [
    "def translateParagraph(par):\n",
    "    if par == '' or re.fullmatch('[ \\n]+', par) is not None:\n",
    "        return par\n",
    "    ppc.copy(par)\n",
    "    stextarea.send_keys(Keys.COMMAND, 'v')\n",
    "    translated_text = ''\n",
    "    while not translated_text:\n",
    "        time.sleep(1)\n",
    "        translated_text = ttextarea.get_property('value')\n",
    "    stextarea.send_keys(Keys.COMMAND, 'a')\n",
    "    stextarea.send_keys(Keys.BACKSPACE)\n",
    "    return translated_text"
   ]
  },
  {
   "cell_type": "code",
   "execution_count": 11,
   "metadata": {},
   "outputs": [],
   "source": [
    "paras_ja = [translateParagraph(par) for par in paras]\n",
    "latex_ja = '\\n\\n'.join(paras_ja)"
   ]
  },
  {
   "cell_type": "code",
   "execution_count": 12,
   "metadata": {},
   "outputs": [],
   "source": [
    "ppc.copy(clipboard)\n",
    "driver.quit()"
   ]
  },
  {
   "cell_type": "markdown",
   "metadata": {},
   "source": [
    "## Debug: comparing original tags and \"translated\" ones"
   ]
  },
  {
   "cell_type": "code",
   "execution_count": 13,
   "metadata": {},
   "outputs": [],
   "source": [
    "def posl2tag(posl):\n",
    "    return 'P'+posl[0]+'L'+posl[1]"
   ]
  },
  {
   "cell_type": "code",
   "execution_count": 14,
   "metadata": {},
   "outputs": [
    {
     "data": {
      "text/plain": [
       "['P00019144L00000007',\n",
       " 'P00017191L00000033',\n",
       " 'P00015371L00000004',\n",
       " 'P00019376L00000015',\n",
       " 'P00015412L00000018']"
      ]
     },
     "execution_count": 14,
     "metadata": {},
     "output_type": "execute_result"
    }
   ],
   "source": [
    "pattern = re.compile('P(\\d{8})L(\\d{8})')\n",
    "tag0 = pattern.findall(latex_rep)\n",
    "tag1 = pattern.findall(latex_ja) + re.compile('p(\\d{8})l(\\d{8})').findall(latex_ja)\n",
    "tag_miss = list((set(tag0) ^ set(tag1)) & set(tag0))\n",
    "tag_miss = [posl2tag(t) for t in tag_miss]\n",
    "(tag_miss)"
   ]
  },
  {
   "cell_type": "code",
   "execution_count": 15,
   "metadata": {},
   "outputs": [
    {
     "data": {
      "text/plain": [
       "19"
      ]
     },
     "execution_count": 15,
     "metadata": {},
     "output_type": "execute_result"
    }
   ],
   "source": [
    "target = [p for p in paras if tag_miss[0] in p]\n",
    "paras.index(target[0])"
   ]
  },
  {
   "cell_type": "code",
   "execution_count": 16,
   "metadata": {},
   "outputs": [],
   "source": [
    "#paras[9]"
   ]
  },
  {
   "cell_type": "code",
   "execution_count": 17,
   "metadata": {},
   "outputs": [],
   "source": [
    "#paras_ja[9]"
   ]
  },
  {
   "cell_type": "code",
   "execution_count": 18,
   "metadata": {},
   "outputs": [],
   "source": [
    "warning1 = '\\nLatex2DeepL missing expresion warning: '\n",
    "warning2 = ', '\n",
    "def addMissingExpressionWarning(tag):\n",
    "    target = [p for p in paras if tag in p]\n",
    "    index = paras.index(target[0])\n",
    "    if re.search(warning1, paras_ja[index]) is None:\n",
    "        paras_ja[index] += warning1+'\\\"'+tag+'\\\", '\n",
    "    else:\n",
    "        paras_ja[index] += '\\\"'+tag+'\\\", '\n",
    "for t in tag_miss:\n",
    "    addMissingExpressionWarning(t)"
   ]
  },
  {
   "cell_type": "code",
   "execution_count": 19,
   "metadata": {},
   "outputs": [],
   "source": [
    "latex_ja = '\\n\\n'.join(paras_ja)"
   ]
  },
  {
   "cell_type": "markdown",
   "metadata": {},
   "source": [
    "## Replace P(pos)L(len) to original LaTeX formula"
   ]
  },
  {
   "cell_type": "code",
   "execution_count": 20,
   "metadata": {},
   "outputs": [],
   "source": [
    "def replaceRule(match):\n",
    "    (pos, l) = (int(match.group(1)), int(match.group(2)))\n",
    "    return latex_mod[pos:pos+l]"
   ]
  },
  {
   "cell_type": "code",
   "execution_count": 21,
   "metadata": {},
   "outputs": [],
   "source": [
    "latex_fin = re.sub('P(\\d{8})L(\\d{8})', replaceRule, latex_ja)\n",
    "latex_fin = re.sub('p(\\d{8})l(\\d{8})', replaceRule, latex_fin) # DeepL sometimes translates P->p and L->l\n",
    "latex_fin = latex_mod[:doc.pos]+'\\\\begin{document}\\n'+latex_fin+'\\n\\\\end{document}'"
   ]
  },
  {
   "cell_type": "code",
   "execution_count": 22,
   "metadata": {},
   "outputs": [],
   "source": [
    "(head, ext) = re.split('\\.', input_file)\n",
    "output_file = head+'_ja.'+ext\n",
    "with open(output_file, mode='w') as f:\n",
    "    f.write(latex_fin)"
   ]
  },
  {
   "cell_type": "code",
   "execution_count": null,
   "metadata": {},
   "outputs": [],
   "source": []
  }
 ],
 "metadata": {
  "kernelspec": {
   "display_name": "Python 3",
   "language": "python",
   "name": "python3"
  },
  "language_info": {
   "codemirror_mode": {
    "name": "ipython",
    "version": 3
   },
   "file_extension": ".py",
   "mimetype": "text/x-python",
   "name": "python",
   "nbconvert_exporter": "python",
   "pygments_lexer": "ipython3",
   "version": "3.8.5"
  }
 },
 "nbformat": 4,
 "nbformat_minor": 4
}
