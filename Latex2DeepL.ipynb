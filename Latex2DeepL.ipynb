{
 "cells": [
  {
   "cell_type": "markdown",
   "metadata": {},
   "source": [
    "# Parse LaTeX file and convert into DeepL-friendly format"
   ]
  },
  {
   "cell_type": "markdown",
   "metadata": {},
   "source": [
    "## Input LaTeX source from file and parse"
   ]
  },
  {
   "cell_type": "code",
   "execution_count": 3,
   "metadata": {},
   "outputs": [
    {
     "name": "stdin",
     "output_type": "stream",
     "text": [
      " /Users/SoChigusa/works/Latex2DeepL/test/test.tex\n"
     ]
    }
   ],
   "source": [
    "from pylatexenc.latexwalker import LatexWalker, LatexEnvironmentNode, LatexCharsNode\n",
    "\n",
    "input_file = input()\n",
    "with open(input_file) as f:\n",
    "    latex = f.read()\n",
    "w = LatexWalker(latex)\n",
    "(nodelist, pos, len_) = w.get_latex_nodes(pos=0)"
   ]
  },
  {
   "cell_type": "markdown",
   "metadata": {},
   "source": [
    "## Look for \\begin{document} ... \\end{document} environment"
   ]
  },
  {
   "cell_type": "code",
   "execution_count": 4,
   "metadata": {},
   "outputs": [],
   "source": [
    "env = [n for n in nodelist if n.isNodeType(LatexEnvironmentNode)]\n",
    "doc = [e for e in env if e.environmentname=='document']\n",
    "if len(doc)==1:\n",
    "    doc = doc[0]\n",
    "else:\n",
    "    Print('Unexpected format with more than one document environment')"
   ]
  },
  {
   "cell_type": "markdown",
   "metadata": {},
   "source": [
    "## Look for successive LaTeX special expressions and replace them by the format P(pos)L(len)"
   ]
  },
  {
   "cell_type": "code",
   "execution_count": 5,
   "metadata": {},
   "outputs": [],
   "source": [
    "def replaceSpecial(node):\n",
    "    if node.isNodeType(LatexCharsNode):\n",
    "        s = node.chars\n",
    "    else:\n",
    "        f = '{:008}'\n",
    "        s = 'P'+f.format(node.pos)+'L'+f.format(node.len)\n",
    "    return s"
   ]
  },
  {
   "cell_type": "code",
   "execution_count": 6,
   "metadata": {},
   "outputs": [],
   "source": [
    "dnl = doc.nodelist\n",
    "str_list = [replaceSpecial(n) for n in dnl]\n",
    "latex_rep = ''.join(str_list)"
   ]
  },
  {
   "cell_type": "markdown",
   "metadata": {},
   "source": [
    "## Preprocess the string and translate using DeepL"
   ]
  },
  {
   "cell_type": "code",
   "execution_count": 107,
   "metadata": {},
   "outputs": [],
   "source": [
    "import re\n",
    "paras = re.split('\\n\\n', latex_rep)\n",
    "paras = [p.replace('\\n', ' ') for p in paras]"
   ]
  },
  {
   "cell_type": "code",
   "execution_count": 109,
   "metadata": {},
   "outputs": [],
   "source": [
    "from selenium import webdriver\n",
    "from selenium.webdriver.chrome.options import Options\n",
    "from selenium.webdriver.common.keys import Keys\n",
    "import time\n",
    "import pyperclip as ppc\n",
    "\n",
    "options = Options()\n",
    "options.add_argument('--disable-gpu')\n",
    "options.add_argument('--disable-extensions')\n",
    "options.add_argument('--proxy-server=\"direct://\"')\n",
    "options.add_argument('--proxy-bypass-list=*')\n",
    "options.add_argument('--start-maximized')\n",
    "\n",
    "DRIVER_PATH = '/Users/SoChigusa/works/Latex2DeepL/bin/chromedriver'\n",
    "driver = webdriver.Chrome(executable_path=DRIVER_PATH, options=options)\n",
    "\n",
    "load_url = 'https://www.deepl.com/ja/translator#en/ja'\n",
    "driver.get(load_url)\n",
    "\n",
    "clipboard = ppc.paste()\n",
    "stextarea = driver.find_element_by_css_selector(\n",
    "    '.lmt__textarea.lmt__source_textarea.lmt__textarea_base_style')\n",
    "ttextarea = driver.find_element_by_css_selector(\n",
    "    '.lmt__textarea.lmt__target_textarea.lmt__textarea_base_style')"
   ]
  },
  {
   "cell_type": "code",
   "execution_count": 103,
   "metadata": {},
   "outputs": [],
   "source": [
    "def translateParagraph(par):\n",
    "    if par == '' or par == '\\n':\n",
    "        return par\n",
    "    ppc.copy(par)\n",
    "    stextarea.send_keys(Keys.COMMAND, 'v')\n",
    "    translated_text = ''\n",
    "    while not translated_text:\n",
    "        time.sleep(1)\n",
    "        translated_text = ttextarea.get_property('value')\n",
    "    stextarea.send_keys(Keys.COMMAND, 'a')\n",
    "    stextarea.send_keys(Keys.BACKSPACE)\n",
    "    return translated_text"
   ]
  },
  {
   "cell_type": "code",
   "execution_count": 110,
   "metadata": {},
   "outputs": [],
   "source": [
    "paras_jap = [translateParagraph(par) for par in paras]\n",
    "latex_jap = '\\n\\n'.join(paras_jap)"
   ]
  },
  {
   "cell_type": "code",
   "execution_count": 24,
   "metadata": {},
   "outputs": [],
   "source": [
    "ppc.copy(clipboard)\n",
    "driver.quit()"
   ]
  },
  {
   "cell_type": "code",
   "execution_count": 112,
   "metadata": {},
   "outputs": [
    {
     "data": {
      "text/plain": [
       "22"
      ]
     },
     "execution_count": 112,
     "metadata": {},
     "output_type": "execute_result"
    }
   ],
   "source": [
    "target = [p for p in paras if 'denote the electron creation and' in p]\n",
    "paras.index(target[0])"
   ]
  },
  {
   "cell_type": "code",
   "execution_count": 145,
   "metadata": {},
   "outputs": [
    {
     "data": {
      "text/plain": [
       "' The QCD axion is a hypothetical elementary particle that solves the strong CP problemP00004000L00000001P00004001L00000051 and is a candidate of dark matter (DM) of the universeP00004107L00000001P00004108L00000048 (see Refs.P00004167L00000001P00004168L00000044 for reviews). Recently people often consider axion-like particles (ALPs) in a broad sense, partly motivated by the developments in string theoryP00004357L00000001P00004358L00000052. ALPs do not necessarily address the strong CP problem, but they are also good DM candidates and may be experimentally probed through, e.g., the axion-photon coupling of the form P00004590L00000039 where P00004636L00000003 denotes the ALP field and P00004666L00000008 P00004675L00000010 denotes the electric (magnetic) field respectively. There are many experimental ideas to search for ALPs including the QCD axion,P00004815L00000130 although still it is not discovered yetP00004985L00000001P00004986L00000410.'"
      ]
     },
     "execution_count": 145,
     "metadata": {},
     "output_type": "execute_result"
    }
   ],
   "source": [
    "paras[9]"
   ]
  },
  {
   "cell_type": "code",
   "execution_count": 115,
   "metadata": {},
   "outputs": [
    {
     "data": {
      "text/plain": [
       "'ここでは、各サイトで1つの電子軌道のみを考慮し、異なる軌道間の相互作用、スピン軌道結合、電子の自己相互作用などを無視します。 P00016716L00000215 第二量子化図では 密結合のハミルトニアンは ここで、P00017116L00000021とP00017142L00000013は、サイトP00017224L00000021での電子の生成と消滅の演算子を表す。ここで、P00017116L00000021とP00017142L00000013は、スピンP00017238L00000008(P00017248L00000010またはP00017262L00000012)を持つサイトP00017224L00000003での電子の生成と消滅の演算子を示し、その合計は隣接するサイトP00017342L00000018の組み合わせで取られます。創造と消滅の演算子は、反 P00017440L00000003P00017443L00000114 P00017558L00000003フーリエ変換はP00017602L00000003P00017605L00000117 P00017723L00000003で定義されます。ハミルトニアンは対角線上に書き直され、P00017777L00000003P00017780L00000178 P00017959L00000003このP00017967L00000019は電子のエネルギーバンドを表しています。例えば、単純な立方体の格子では、P00018071L00000055となります。'"
      ]
     },
     "execution_count": 115,
     "metadata": {},
     "output_type": "execute_result"
    }
   ],
   "source": [
    "paras_jap[22]"
   ]
  },
  {
   "cell_type": "code",
   "execution_count": 123,
   "metadata": {},
   "outputs": [
    {
     "data": {
      "text/plain": [
       "310"
      ]
     },
     "execution_count": 123,
     "metadata": {},
     "output_type": "execute_result"
    }
   ],
   "source": [
    "target = [s for s in str_list if 'P00017238L00000008' in s]\n",
    "str_list.index(target[0])"
   ]
  },
  {
   "cell_type": "code",
   "execution_count": 121,
   "metadata": {},
   "outputs": [
    {
     "data": {
      "text/plain": [
       "\"ここでは、各サイトで1つの電子軌道のみを考慮し、異なる軌道間の相互作用、スピン軌道結合、電子の自己相互作用などを無視します。 \\\\footnote{\\n\\tEffects of the interaction among different orbitals and spin-orbit coupling are important for the topological insulator. The electron self-interaction will be taken into account in the next subsection.\\n} 第二量子化図では 密結合のハミルトニアンは ここで、$c_{i\\\\sigma}^\\\\dagger$と$c_{i\\\\sigma}$は、サイト$i$ with spin $\\\\sigmaでの電子の生成と消滅の演算子を表す。ここで、$c_{i\\\\sigma}^\\\\dagger$と$c_{i\\\\sigma}$は、スピン$\\\\sigma$($\\\\uparrow$または$\\\\downarrow$)を持つサイト$i$での電子の生成と消滅の演算子を示し、その合計は隣接するサイト$\\\\left<i,j\\\\right>$の組み合わせで取られます。創造と消滅の演算子は、反 %%\\n\\\\begin{align}\\n\\t\\\\left\\\\{ c_{i\\\\sigma}, c^\\\\dagger_{j\\\\sigma'} \\\\right\\\\} = \\\\delta_{ij}\\\\delta_{\\\\sigma\\\\sigma'}.\\n\\\\end{align} %%\\nフーリエ変換は%%\\n\\\\begin{align}\\n\\tc_{i\\\\sigma} = \\\\frac{1}{\\\\sqrt N}\\\\sum_{\\\\vec k} e^{-i\\\\vec k\\\\cdot \\\\vec x_i} c_{\\\\vec k,\\\\sigma}.\\n\\\\end{align} %%\\nで定義されます。ハミルトニアンは対角線上に書き直され、%%\\n\\\\begin{align}\\n\\tH = \\\\sum_{\\\\vec k,\\\\sigma} \\\\epsilon_{\\\\vec k} c_{\\\\vec k,\\\\sigma}^\\\\dagger c_{\\\\vec k,\\\\sigma},\\n\\t~~~~~~\\\\epsilon_{\\\\vec k}=-t(\\\\gamma_{\\\\vec k}+\\\\gamma_{\\\\vec k}^*).\\n\\\\end{align} %%\\nこの$\\\\epsilon_{\\\\vec k}$は電子のエネルギーバンドを表しています。例えば、単純な立方体の格子では、$\\\\epsilon_k=2t\\\\left(1-\\\\sum_{i=x,y,z}\\\\cos(k_i a)\\\\right)$となります。\""
      ]
     },
     "execution_count": 121,
     "metadata": {},
     "output_type": "execute_result"
    }
   ],
   "source": [
    "re.sub('P(\\d{8})L(\\d{8})', replaceRule, paras_jap[22])"
   ]
  },
  {
   "cell_type": "markdown",
   "metadata": {},
   "source": [
    "## Debug: comparing original tags and \"translated\" ones"
   ]
  },
  {
   "cell_type": "code",
   "execution_count": 154,
   "metadata": {},
   "outputs": [],
   "source": [
    "def posl2tag(posl):\n",
    "    return 'P'+posl[0]+'L'+posl[1]"
   ]
  },
  {
   "cell_type": "code",
   "execution_count": 155,
   "metadata": {},
   "outputs": [
    {
     "data": {
      "text/plain": [
       "['P00006739L00000005',\n",
       " 'P00017107L00000003',\n",
       " 'P00048588L00000003',\n",
       " 'P00074180L00000018',\n",
       " 'P00031709L00000003',\n",
       " 'P00006750L00000001',\n",
       " 'P00006751L00000078',\n",
       " 'P00031476L00000232',\n",
       " 'P00012842L00000005',\n",
       " 'P00017010L00000003',\n",
       " 'P00048401L00000168',\n",
       " 'P00066096L00000165',\n",
       " 'P00032905L00000639',\n",
       " 'P00004000L00000001',\n",
       " 'P00074179L00000001',\n",
       " 'P00014602L00000024',\n",
       " 'P00071784L00000005',\n",
       " 'P00044468L00000539',\n",
       " 'P00017013L00000093',\n",
       " 'P00063689L00000022',\n",
       " 'P00080003L00000120',\n",
       " 'P00031359L00000113',\n",
       " 'P00004001L00000051',\n",
       " 'P00031473L00000003']"
      ]
     },
     "execution_count": 155,
     "metadata": {},
     "output_type": "execute_result"
    }
   ],
   "source": [
    "pattern = re.compile('P(\\d{8})L(\\d{8})')\n",
    "tag0 = pattern.findall(latex_rep)\n",
    "tag1 = pattern.findall(latex_jap)\n",
    "tag_miss = list((set(tag0) ^ set(tag1)) & set(tag0))\n",
    "tag_miss = [posl2tag(t) for t in tag_miss]"
   ]
  },
  {
   "cell_type": "code",
   "execution_count": 149,
   "metadata": {},
   "outputs": [
    {
     "data": {
      "text/plain": [
       "'%%\\n\\\\begin{align}\\n\\tH=-t\\\\sum_{\\\\left<i,j\\\\right>,\\\\sigma}c_{i\\\\sigma}^\\\\dagger c_{j\\\\sigma},\\n\\\\end{align}\\n%%\\nwhere $c_{'"
      ]
     },
     "execution_count": 149,
     "metadata": {},
     "output_type": "execute_result"
    }
   ],
   "source": [
    "latex[17010:17120]"
   ]
  },
  {
   "cell_type": "markdown",
   "metadata": {},
   "source": [
    "## Replace P(pos)L(len) to original LaTeX formula"
   ]
  },
  {
   "cell_type": "code",
   "execution_count": 37,
   "metadata": {},
   "outputs": [],
   "source": [
    "def replaceRule(match):\n",
    "    (pos, l) = (int(match.group(1)), int(match.group(2)))\n",
    "    return latex[pos:pos+l]"
   ]
  },
  {
   "cell_type": "code",
   "execution_count": 161,
   "metadata": {},
   "outputs": [],
   "source": [
    "latex_fin = re.sub('P(\\d{8})L(\\d{8})', replaceRule, latex_jap)\n",
    "latex_fin = latex[:doc.pos]+'\\\\begin{document}\\n'+latex_fin+'\\n\\\\end{document}'"
   ]
  },
  {
   "cell_type": "code",
   "execution_count": 162,
   "metadata": {},
   "outputs": [],
   "source": [
    "with open('test_jap.tex', mode='w') as f:\n",
    "    f.write(latex_fin)"
   ]
  },
  {
   "cell_type": "code",
   "execution_count": null,
   "metadata": {},
   "outputs": [],
   "source": []
  }
 ],
 "metadata": {
  "kernelspec": {
   "display_name": "Python 3",
   "language": "python",
   "name": "python3"
  },
  "language_info": {
   "codemirror_mode": {
    "name": "ipython",
    "version": 3
   },
   "file_extension": ".py",
   "mimetype": "text/x-python",
   "name": "python",
   "nbconvert_exporter": "python",
   "pygments_lexer": "ipython3",
   "version": "3.8.5"
  }
 },
 "nbformat": 4,
 "nbformat_minor": 4
}
