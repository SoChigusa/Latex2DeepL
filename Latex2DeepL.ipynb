{
 "cells": [
  {
   "cell_type": "markdown",
   "metadata": {},
   "source": [
    "# Parse LaTeX file and convert into DeepL-friendly format"
   ]
  },
  {
   "cell_type": "markdown",
   "metadata": {},
   "source": [
    "## Input LaTeX source from file and parse\n",
    "\n",
    "First replace newly defined commands by original commands to help pylatexenc parsing well"
   ]
  },
  {
   "cell_type": "code",
   "execution_count": 1,
   "metadata": {},
   "outputs": [],
   "source": [
    "import re\n",
    "def replaceNewCommand(orig_command, match_command):\n",
    "    return orig_command + match_command.group(1)\n",
    "\n",
    "def preprocessing(orig):\n",
    "    mod = orig\n",
    "    while True:\n",
    "        match = re.search(r'\\\\newcommand\\{(.*?)\\}\\{(.*)\\}', mod)\n",
    "        if match is None:\n",
    "            break\n",
    "        mod = mod.replace(match.group(), '')\n",
    "        mod = re.sub(match.group(1).replace('\\\\','\\\\\\\\')+\"([\\\\\\\\ \\n\\{\\}\\(\\)\\^\\$_\\+\\-\\*\\/=,.;:])'\", lambda wrapper: replaceNewCommand(match.group(2), wrapper), mod)\n",
    "    while True:\n",
    "        match = re.search(r'\\\\def([^\\#\\n]*?)\\{(.*)\\}', mod)\n",
    "        if match is None:\n",
    "            break\n",
    "        mod = mod.replace(match.group(), '')\n",
    "        mod = re.sub(match.group(1).replace('\\\\','\\\\\\\\')+\"([\\\\\\\\ \\n\\{\\}\\(\\)\\^\\$_\\+\\-\\*\\/=,.;:])'\", lambda wrapper: replaceNewCommand(match.group(2), wrapper), mod)\n",
    "    return mod"
   ]
  },
  {
   "cell_type": "code",
   "execution_count": 2,
   "metadata": {},
   "outputs": [
    {
     "name": "stdin",
     "output_type": "stream",
     "text": [
      " SSinos.tex\n"
     ]
    }
   ],
   "source": [
    "from pylatexenc.latexwalker import LatexWalker, LatexCharsNode, LatexCommentNode, LatexEnvironmentNode, LatexGroupNode, LatexMacroNode, LatexMathNode, LatexSpecialsNode\n",
    "\n",
    "input_file = input()\n",
    "with open(input_file) as f:\n",
    "    latex_orig = f.read()\n",
    "latex_mod = preprocessing(latex_orig)\n",
    "w = LatexWalker(latex_mod)\n",
    "(nodelist, pos, len_) = w.get_latex_nodes(pos=0)"
   ]
  },
  {
   "cell_type": "markdown",
   "metadata": {},
   "source": [
    "## Look for \\begin{document} ... \\end{document} environment"
   ]
  },
  {
   "cell_type": "markdown",
   "metadata": {},
   "source": [
    "Tempolary: search for the document environment step by step"
   ]
  },
  {
   "cell_type": "code",
   "execution_count": 3,
   "metadata": {},
   "outputs": [],
   "source": [
    "def searchDocument(nl):\n",
    "    for i in range(len(nl)):\n",
    "        if nl[i] is None:\n",
    "            continue\n",
    "        if nl[i].isNodeType(LatexEnvironmentNode) and nl[i].environmentname == 'document':\n",
    "            return nl[i]\n",
    "        elif nl[i].isNodeType(LatexCharsNode) or nl[i].isNodeType(LatexCommentNode) or nl[i].isNodeType(LatexSpecialsNode):\n",
    "            continue\n",
    "        elif nl[i].isNodeType(LatexMacroNode):\n",
    "            if nl[i].nodeargd is None:\n",
    "                continue\n",
    "            else:\n",
    "                next = nl[i].nodeargd.argnlist\n",
    "        else:\n",
    "            next = nl[i].nodelist\n",
    "        res = searchDocument(next)\n",
    "        if res != []:\n",
    "            return res\n",
    "    return []"
   ]
  },
  {
   "cell_type": "code",
   "execution_count": 4,
   "metadata": {},
   "outputs": [],
   "source": [
    "document = searchDocument(nodelist)\n",
    "# env = [n for n in nodelist if n.isNodeType(LatexEnvironmentNode)]\n",
    "# doc = [e for e in env if e.environmentname=='document']\n",
    "# if len(doc)==1:\n",
    "#    doc = doc[0]\n",
    "#else:\n",
    "#    print('Unexpected format with more than one document environment')"
   ]
  },
  {
   "cell_type": "markdown",
   "metadata": {},
   "source": [
    "## Look for successive LaTeX special expressions and replace them by the format N(from)T(to)"
   ]
  },
  {
   "cell_type": "code",
   "execution_count": 5,
   "metadata": {},
   "outputs": [],
   "source": [
    "def replaceSpecial(i, node):\n",
    "    format8 = '{:008}'\n",
    "    if node is None:\n",
    "        return ''\n",
    "    elif node.isNodeType(LatexCharsNode):\n",
    "        s = node.chars\n",
    "#    elif node.isNodeType(LatexCommentNode):\n",
    "#        s = ''\n",
    "    elif node.isNodeType(LatexSpecialsNode) and node.specials_chars == '~':\n",
    "        s = ' '\n",
    "    else:\n",
    "        s = ' N'+format8.format(i)+'T'+format8.format(i)+' '\n",
    "    return s\n",
    "\n",
    "def replaceSuccessiveTags(match):\n",
    "    return 'N'+match.group(1)+'T'+match.group(2)\n",
    "\n",
    "def replaceTags(dnl):\n",
    "    str_list = [replaceSpecial(i, n) for i, n in enumerate(dnl)]\n",
    "    latex_out = ''.join(str_list)\n",
    "    while re.search('N\\d{8}T\\d{8} [ \\n]* N\\d{8}T\\d{8}', latex_out) is not None:\n",
    "        latex_out = re.sub('N(\\d{8})T\\d{8} [ \\n]* N\\d{8}T(\\d{8})', replaceSuccessiveTags, latex_out)\n",
    "    return latex_out"
   ]
  },
  {
   "cell_type": "markdown",
   "metadata": {},
   "source": [
    "## For postprocessing : replace N(from)T(to) to original LaTeX formula"
   ]
  },
  {
   "cell_type": "code",
   "execution_count": 6,
   "metadata": {},
   "outputs": [],
   "source": [
    "def outputLatex(nl):\n",
    "    latex = ''\n",
    "    if type(nl) is not list:\n",
    "        nl = [nl]\n",
    "    for i in range(len(nl)):\n",
    "        if nl[i] is None:\n",
    "            continue\n",
    "        if nl[i].isNodeType(LatexCharsNode):\n",
    "            latex += nl[i].chars\n",
    "        #elif nl[i].isNodeType(LatexCommentNode):\n",
    "        #    print(nl[i])\n",
    "        elif nl[i].isNodeType(LatexEnvironmentNode):\n",
    "            evn = nl[i].environmentname\n",
    "            latex += '\\\\begin{'+evn+'}'\n",
    "            if nl[i].nodeargd.argnlist != [] and nl[i].nodeargd.argnlist != [None]:  # e.g., \\begin{tabular}{ccc}\n",
    "                latex += outputLatex(nl[i].nodeargd.argnlist)\n",
    "            latex += outputLatex(nl[i].nodelist)\n",
    "            latex += '\\\\end{'+evn+'}'\n",
    "        elif nl[i].isNodeType(LatexGroupNode):\n",
    "            latex += nl[i].delimiters[0]\n",
    "            latex += outputLatex(nl[i].nodelist)\n",
    "            latex += nl[i].delimiters[1]\n",
    "        elif nl[i].isNodeType(LatexMacroNode):\n",
    "            latex += '\\\\'+nl[i].macroname\n",
    "            latex += nl[i].macro_post_space\n",
    "            if nl[i].nodeargd is not None:\n",
    "                latex += outputLatex(nl[i].nodeargd.argnlist)\n",
    "        elif nl[i].isNodeType(LatexMathNode):\n",
    "            latex += nl[i].delimiters[0]\n",
    "            latex += outputLatex(nl[i].nodelist)\n",
    "            latex += nl[i].delimiters[1]\n",
    "        elif nl[i].isNodeType(LatexSpecialsNode):\n",
    "            latex += nl[i].specials_chars\n",
    "    return latex\n",
    "\n",
    "def replaceRule(dnl, match):\n",
    "    (fr, to) = (int(match.group(1)), int(match.group(2)))\n",
    "    return outputLatex(dnl[fr:to+1])"
   ]
  },
  {
   "cell_type": "markdown",
   "metadata": {},
   "source": [
    "## Preprocess the string, translate using DeepL, and postprocess the string"
   ]
  },
  {
   "cell_type": "code",
   "execution_count": 7,
   "metadata": {},
   "outputs": [],
   "source": [
    "from selenium import webdriver\n",
    "from selenium.webdriver.chrome.options import Options\n",
    "from selenium.webdriver.common.keys import Keys\n",
    "import time\n",
    "import pyperclip as ppc\n",
    "\n",
    "options = Options()\n",
    "options.add_argument('--disable-gpu')\n",
    "options.add_argument('--disable-extensions')\n",
    "options.add_argument('--proxy-server=\"direct://\"')\n",
    "options.add_argument('--proxy-bypass-list=*')\n",
    "options.add_argument('--start-maximized')\n",
    "\n",
    "DRIVER_PATH = '/usr/local/bin/chromedriver'\n",
    "driver = webdriver.Chrome(executable_path=DRIVER_PATH, options=options)\n",
    "\n",
    "load_url = 'https://www.deepl.com/ja/translator#en/ja'\n",
    "driver.get(load_url)\n",
    "\n",
    "clipboard = ppc.paste()\n",
    "stextarea = driver.find_element_by_css_selector(\n",
    "    '.lmt__textarea.lmt__source_textarea.lmt__textarea_base_style')\n",
    "ttextarea = driver.find_element_by_css_selector(\n",
    "    '.lmt__textarea.lmt__target_textarea.lmt__textarea_base_style')"
   ]
  },
  {
   "cell_type": "code",
   "execution_count": 8,
   "metadata": {},
   "outputs": [],
   "source": [
    "def translateParagraph(par):\n",
    "    if par == '' or re.fullmatch('[ \\n]+', par) is not None:\n",
    "        return par\n",
    "    ppc.copy(par)\n",
    "    stextarea.send_keys(Keys.COMMAND, 'v')\n",
    "    translated_text = ''\n",
    "    while not translated_text:\n",
    "        time.sleep(1)\n",
    "        translated_text = ttextarea.get_property('value')\n",
    "    stextarea.send_keys(Keys.COMMAND, 'a')\n",
    "    stextarea.send_keys(Keys.BACKSPACE)\n",
    "    return translated_text\n",
    "\n",
    "def node2tag(node):\n",
    "    return 'N'+node[0]+'T'+node[1]\n",
    "        \n",
    "def translateOneLevel(doc):\n",
    "    \n",
    "    # translate paragraph by paragraph\n",
    "    if doc.isNodeType(LatexCharsNode) or doc.isNodeType(LatexMacroNode):\n",
    "        dnl = [doc]\n",
    "    else:\n",
    "        dnl = doc.nodelist\n",
    "    latex_rep = replaceTags(dnl)\n",
    "    paras = re.split('\\n\\n', latex_rep)\n",
    "    paras = [p.replace('\\n', ' ') for p in paras]\n",
    "    paras_ja = [translateParagraph(par) for par in paras]\n",
    "    latex_tmp = '\\n\\n'.join(paras_ja)\n",
    "\n",
    "    # extract missing tag information\n",
    "    pattern = re.compile('N(\\d{8})T(\\d{8})')\n",
    "    tag0 = pattern.findall(latex_rep)\n",
    "    tag1 = pattern.findall(latex_tmp) + re.compile('N\\d{8}T\\d{8}').findall(latex_tmp)\n",
    "    tag_miss = list((set(tag0) ^ set(tag1)) & set(tag0))\n",
    "    tag_miss = [node2tag(t) for t in tag_miss]\n",
    "\n",
    "    # add missing expression warning\n",
    "    warning = '\\nLatex2DeepL missing expresion warning: '\n",
    "    for tag in tag_miss:\n",
    "        target = [p for p in paras if tag in p]\n",
    "        index = paras.index(target[0])\n",
    "        if re.search(warning, paras_ja[index]) is None:\n",
    "            paras_ja[index] += warning+'\\\"'+tag+'\\\", '\n",
    "        else:\n",
    "            paras_ja[index] += '\\\"'+tag+'\\\", '\n",
    "    \n",
    "    # convert back tags into original formula\n",
    "    latex_ja = '\\n\\n'.join(paras_ja)\n",
    "    latex_ja = re.sub('N(\\d{8})T(\\d{8})', lambda wrapper: replaceRule(dnl, wrapper), latex_ja)\n",
    "    latex_ja = re.sub('n(\\d{8})t(\\d{8})', lambda wrapper: replaceRule(dnl, wrapper), latex_ja)  # DeepL sometimes translate large characters into small ones\n",
    "    return paras_ja, latex_ja"
   ]
  },
  {
   "cell_type": "markdown",
   "metadata": {},
   "source": [
    "## Modules for specific environments e.g. \\caption{}, \\begin{abstract}, etc."
   ]
  },
  {
   "cell_type": "code",
   "execution_count": 9,
   "metadata": {},
   "outputs": [],
   "source": [
    "def translateContent(node):\n",
    "    _, content = translateOneLevel(node)\n",
    "    node.nodelist = [LatexCharsNode(parsing_state=None, pos=0, len=0, chars=content)]"
   ]
  },
  {
   "cell_type": "code",
   "execution_count": 10,
   "metadata": {},
   "outputs": [],
   "source": [
    "def translateAllContents(nl):\n",
    "    for i in range(len(nl)):\n",
    "        if nl[i] is None:\n",
    "            continue\n",
    "        if nl[i].isNodeType(LatexEnvironmentNode):\n",
    "            en = nl[i].environmentname\n",
    "            if en == 'abstract' or en == 'itemize' or en == 'enumerate':\n",
    "                translateContent(nl[i])\n",
    "                continue\n",
    "            else:\n",
    "                next = nl[i].nodelist\n",
    "        elif nl[i].isNodeType(LatexMacroNode):\n",
    "            if nl[i].nodeargd is None:\n",
    "                continue\n",
    "            else:\n",
    "                mn = nl[i].macroname\n",
    "                if mn == 'section' or mn == 'subsection' or mn == 'subsubsection' \\\n",
    "                    or mn == 'chapter' or mn == 'subchapter' or mn == 'subsubchapter' or mn == 'footnote' \\\n",
    "                    or mn == 'textit' or mn == 'textbf':\n",
    "                    elem = nl[i].nodeargd.argnlist\n",
    "                    if elem != [] and elem[0] is not None:\n",
    "                        translateContent(elem[0])\n",
    "                    continue\n",
    "                else:\n",
    "                    next = nl[i].nodeargd.argnlist\n",
    "        elif nl[i].isNodeType(LatexCharsNode) or nl[i].isNodeType(LatexCommentNode) or nl[i].isNodeType(LatexSpecialsNode):\n",
    "            continue\n",
    "        else:\n",
    "            next = nl[i].nodelist\n",
    "        translateAllContents(next)"
   ]
  },
  {
   "cell_type": "code",
   "execution_count": 11,
   "metadata": {},
   "outputs": [],
   "source": [
    "import copy\n",
    "doc_rep = copy.copy(document)\n",
    "translateAllContents(doc_rep.nodelist)"
   ]
  },
  {
   "cell_type": "markdown",
   "metadata": {},
   "source": [
    "## Debug: comparing original tags and \"translated\" ones"
   ]
  },
  {
   "cell_type": "code",
   "execution_count": 12,
   "metadata": {},
   "outputs": [],
   "source": [
    "#target = [p for p in paras if tag_miss[0] in p]\n",
    "#paras.index(target[0])"
   ]
  },
  {
   "cell_type": "code",
   "execution_count": 13,
   "metadata": {},
   "outputs": [],
   "source": [
    "#paras[2]"
   ]
  },
  {
   "cell_type": "code",
   "execution_count": 14,
   "metadata": {},
   "outputs": [],
   "source": [
    "#paras_ja[2]"
   ]
  },
  {
   "cell_type": "markdown",
   "metadata": {},
   "source": [
    "## Replace N(from)T(to) to original LaTeX formula"
   ]
  },
  {
   "cell_type": "code",
   "execution_count": 15,
   "metadata": {},
   "outputs": [
    {
     "ename": "AttributeError",
     "evalue": "'LatexMacroNode' object has no attribute 'nodelist'",
     "output_type": "error",
     "traceback": [
      "\u001b[0;31m---------------------------------------------------------------------------\u001b[0m",
      "\u001b[0;31mAttributeError\u001b[0m                            Traceback (most recent call last)",
      "\u001b[0;32m<ipython-input-15-fe3fa6412ae8>\u001b[0m in \u001b[0;36m<module>\u001b[0;34m\u001b[0m\n\u001b[0;32m----> 1\u001b[0;31m \u001b[0mparas_ja\u001b[0m\u001b[0;34m,\u001b[0m \u001b[0mlatex_ja\u001b[0m \u001b[0;34m=\u001b[0m \u001b[0mtranslateOneLevel\u001b[0m\u001b[0;34m(\u001b[0m\u001b[0mdoc_rep\u001b[0m\u001b[0;34m.\u001b[0m\u001b[0mnodelist\u001b[0m\u001b[0;34m[\u001b[0m\u001b[0;36m1\u001b[0m\u001b[0;34m]\u001b[0m\u001b[0;34m)\u001b[0m\u001b[0;34m\u001b[0m\u001b[0;34m\u001b[0m\u001b[0m\n\u001b[0m\u001b[1;32m      2\u001b[0m \u001b[0mlatex_ja\u001b[0m \u001b[0;34m=\u001b[0m \u001b[0mlatex_mod\u001b[0m\u001b[0;34m[\u001b[0m\u001b[0;34m:\u001b[0m\u001b[0mdocument\u001b[0m\u001b[0;34m.\u001b[0m\u001b[0mpos\u001b[0m\u001b[0;34m]\u001b[0m\u001b[0;34m+\u001b[0m\u001b[0;34m'\\\\begin{document}\\n'\u001b[0m\u001b[0;34m+\u001b[0m\u001b[0mlatex_ja\u001b[0m\u001b[0;34m+\u001b[0m\u001b[0;34m'\\n\\\\end{document}'\u001b[0m\u001b[0;34m\u001b[0m\u001b[0;34m\u001b[0m\u001b[0m\n",
      "\u001b[0;32m<ipython-input-8-1f35154a8302>\u001b[0m in \u001b[0;36mtranslateOneLevel\u001b[0;34m(doc)\u001b[0m\n\u001b[1;32m     21\u001b[0m         \u001b[0mdnl\u001b[0m \u001b[0;34m=\u001b[0m \u001b[0;34m[\u001b[0m\u001b[0mdoc\u001b[0m\u001b[0;34m]\u001b[0m\u001b[0;34m\u001b[0m\u001b[0;34m\u001b[0m\u001b[0m\n\u001b[1;32m     22\u001b[0m     \u001b[0;32melse\u001b[0m\u001b[0;34m:\u001b[0m\u001b[0;34m\u001b[0m\u001b[0;34m\u001b[0m\u001b[0m\n\u001b[0;32m---> 23\u001b[0;31m         \u001b[0mdnl\u001b[0m \u001b[0;34m=\u001b[0m \u001b[0mdoc\u001b[0m\u001b[0;34m.\u001b[0m\u001b[0mnodelist\u001b[0m\u001b[0;34m\u001b[0m\u001b[0;34m\u001b[0m\u001b[0m\n\u001b[0m\u001b[1;32m     24\u001b[0m     \u001b[0mlatex_rep\u001b[0m \u001b[0;34m=\u001b[0m \u001b[0mreplaceTags\u001b[0m\u001b[0;34m(\u001b[0m\u001b[0mdnl\u001b[0m\u001b[0;34m)\u001b[0m\u001b[0;34m\u001b[0m\u001b[0;34m\u001b[0m\u001b[0m\n\u001b[1;32m     25\u001b[0m     \u001b[0mparas\u001b[0m \u001b[0;34m=\u001b[0m \u001b[0mre\u001b[0m\u001b[0;34m.\u001b[0m\u001b[0msplit\u001b[0m\u001b[0;34m(\u001b[0m\u001b[0;34m'\\n\\n'\u001b[0m\u001b[0;34m,\u001b[0m \u001b[0mlatex_rep\u001b[0m\u001b[0;34m)\u001b[0m\u001b[0;34m\u001b[0m\u001b[0;34m\u001b[0m\u001b[0m\n",
      "\u001b[0;31mAttributeError\u001b[0m: 'LatexMacroNode' object has no attribute 'nodelist'"
     ]
    }
   ],
   "source": [
    "paras_ja, latex_ja = translateOneLevel(doc_rep.nodelist[1])\n",
    "latex_ja = latex_mod[:document.pos]+'\\\\begin{document}\\n'+latex_ja+'\\n\\\\end{document}'"
   ]
  },
  {
   "cell_type": "code",
   "execution_count": null,
   "metadata": {},
   "outputs": [],
   "source": [
    "ppc.copy(clipboard)\n",
    "driver.quit()"
   ]
  },
  {
   "cell_type": "code",
   "execution_count": null,
   "metadata": {},
   "outputs": [],
   "source": [
    "(head, ext) = re.split('\\.', input_file)\n",
    "output_file = head+'_ja.'+ext\n",
    "with open(output_file, mode='w') as f:\n",
    "    f.write(latex_ja)"
   ]
  },
  {
   "cell_type": "code",
   "execution_count": null,
   "metadata": {},
   "outputs": [],
   "source": []
  }
 ],
 "metadata": {
  "kernelspec": {
   "display_name": "Python 3",
   "language": "python",
   "name": "python3"
  },
  "language_info": {
   "codemirror_mode": {
    "name": "ipython",
    "version": 3
   },
   "file_extension": ".py",
   "mimetype": "text/x-python",
   "name": "python",
   "nbconvert_exporter": "python",
   "pygments_lexer": "ipython3",
   "version": "3.8.5"
  }
 },
 "nbformat": 4,
 "nbformat_minor": 4
}
